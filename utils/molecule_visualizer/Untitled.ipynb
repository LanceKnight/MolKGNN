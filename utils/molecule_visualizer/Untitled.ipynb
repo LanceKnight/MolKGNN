{
 "cells": [
  {
   "cell_type": "code",
   "execution_count": 6,
   "metadata": {
    "collapsed": false
   },
   "outputs": [],
   "source": [
    "import rdkit\n",
    "import pandas as pd\n"
   ]
  },
  {
   "cell_type": "code",
   "execution_count": 8,
   "metadata": {
    "collapsed": false
   },
   "outputs": [
    {
     "name": "stdout",
     "output_type": "stream",
     "text": [
      "/home/liuy69/projects/unified_framework/kgnn/utils/molecule_visualizer\r\n"
     ]
    }
   ],
   "source": [
    "!pwd\n",
    "smiles_list = pd.read_csv('../../../dataset/d4_docking/processed/CHIRAL1-smiles.csv')"
   ]
  },
  {
   "cell_type": "code",
   "execution_count": 24,
   "metadata": {
    "collapsed": false
   },
   "outputs": [
    {
     "name": "stdout",
     "output_type": "stream",
     "text": [
      "['CCN(C(=O)CN1CCNC(=O)[C@H]1CC(=O)OC)c1ccccc1']\n",
      "1\n",
      "CCN(C(=O)CN1CCNC(=O)[C@@H]1CC(=O)OC)c1ccccc1\n"
     ]
    }
   ],
   "source": [
    "print(smiles_list.iloc[0].values)\n",
    "for smiles in smiles_list:\n",
    "    print(1)\n",
    "    print(smiles)\n",
    "\n",
    "# img=Draw.MolsToGridImage(ms[:8],molsPerRow=4,subImgSize=(200,200),legends=[x.GetProp(\"_Name\") for x in ms[:8]])    "
   ]
  }
 ],
 "metadata": {
  "kernelspec": {
   "display_name": "Python 3",
   "language": "python",
   "name": "python3"
  },
  "language_info": {
   "codemirror_mode": {
    "name": "ipython",
    "version": 3
   },
   "file_extension": ".py",
   "mimetype": "text/x-python",
   "name": "python",
   "nbconvert_exporter": "python",
   "pygments_lexer": "ipython3",
   "version": "3.6.12"
  }
 },
 "nbformat": 4,
 "nbformat_minor": 2
}
