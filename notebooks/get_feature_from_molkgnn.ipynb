{
 "cells": [
  {
   "cell_type": "code",
   "execution_count": 43,
   "id": "b5ccde8a",
   "metadata": {},
   "outputs": [],
   "source": [
    "import os \n",
    "import sys \n",
    "import numpy as np \n",
    "import torch \n",
    "sys.path[0] = \"/home/hojaechoi/work/molkgnn/\"\n",
    "os.chdir(sys.path[0])\n",
    "from model import GNNModel\n",
    "import importlib.util\n",
    "import sys\n",
    "spec = importlib.util.spec_from_file_location(\"deargen_qsar.dataset.molkgnn\", \"../qsar-pytorch/deargen_qsar/dataset/molkgnn.py\")\n",
    "molkgnn = importlib.util.module_from_spec(spec)\n",
    "sys.modules[\"deargen_qsar.dataset.molkgnn\"] = molkgnn\n",
    "spec.loader.exec_module(molkgnn)\n",
    "from deargen_qsar.dataset.molkgnn import QSARDataset\n"
   ]
  },
  {
   "cell_type": "code",
   "execution_count": 46,
   "id": "1adf46a7",
   "metadata": {},
   "outputs": [
    {
     "name": "stderr",
     "output_type": "stream",
     "text": [
      "/anaconda/envs/molkgnn/lib/python3.7/site-packages/torch_geometric/data/dataset.py:151: UserWarning: The `pre_transform` argument differs from the one used in the pre-processed version of this dataset. If you want to make use of another pre-processing technique, make sure to sure to delete '../qsar-pytorch/Data/preprocessed/HTR2B_A_1-molkgnn' first\n",
      "  f\"The `pre_transform` argument differs from the one used in \"\n"
     ]
    },
    {
     "ename": "AttributeError",
     "evalue": "Can't get attribute 'DataEdgeAttr' on <module 'torch_geometric.data.data' from '/anaconda/envs/molkgnn/lib/python3.7/site-packages/torch_geometric/data/data.py'>",
     "output_type": "error",
     "traceback": [
      "\u001b[0;31m---------------------------------------------------------------------------\u001b[0m",
      "\u001b[0;31mAttributeError\u001b[0m                            Traceback (most recent call last)",
      "\u001b[0;32m/tmp/ipykernel_202904/3433289695.py\u001b[0m in \u001b[0;36m<module>\u001b[0;34m\u001b[0m\n\u001b[1;32m      1\u001b[0m QSARDataset(root = '../qsar-pytorch/Data/preprocessed',\n\u001b[0;32m----> 2\u001b[0;31m         dataset = 'HTR2B_A_1')\n\u001b[0m",
      "\u001b[0;32m~/work/qsar-pytorch/deargen_qsar/dataset/molkgnn.py\u001b[0m in \u001b[0;36m__init__\u001b[0;34m(self, root, D, transform, pre_transform, pre_filter, dataset, empty, gnn_type)\u001b[0m\n\u001b[1;32m    240\u001b[0m \u001b[0;34m\u001b[0m\u001b[0m\n\u001b[1;32m    241\u001b[0m         \u001b[0;32mif\u001b[0m \u001b[0;32mnot\u001b[0m \u001b[0mempty\u001b[0m\u001b[0;34m:\u001b[0m\u001b[0;34m\u001b[0m\u001b[0;34m\u001b[0m\u001b[0m\n\u001b[0;32m--> 242\u001b[0;31m             \u001b[0mself\u001b[0m\u001b[0;34m.\u001b[0m\u001b[0mdata\u001b[0m\u001b[0;34m,\u001b[0m \u001b[0mself\u001b[0m\u001b[0;34m.\u001b[0m\u001b[0mslices\u001b[0m \u001b[0;34m=\u001b[0m \u001b[0mtorch\u001b[0m\u001b[0;34m.\u001b[0m\u001b[0mload\u001b[0m\u001b[0;34m(\u001b[0m\u001b[0mself\u001b[0m\u001b[0;34m.\u001b[0m\u001b[0mprocessed_paths\u001b[0m\u001b[0;34m[\u001b[0m\u001b[0;36m0\u001b[0m\u001b[0;34m]\u001b[0m\u001b[0;34m)\u001b[0m\u001b[0;34m\u001b[0m\u001b[0;34m\u001b[0m\u001b[0m\n\u001b[0m\u001b[1;32m    243\u001b[0m \u001b[0;34m\u001b[0m\u001b[0m\n\u001b[1;32m    244\u001b[0m     \u001b[0;34m@\u001b[0m\u001b[0mproperty\u001b[0m\u001b[0;34m\u001b[0m\u001b[0;34m\u001b[0m\u001b[0m\n",
      "\u001b[0;32m/anaconda/envs/molkgnn/lib/python3.7/site-packages/torch/serialization.py\u001b[0m in \u001b[0;36mload\u001b[0;34m(f, map_location, pickle_module, **pickle_load_args)\u001b[0m\n\u001b[1;32m    710\u001b[0m                     \u001b[0mopened_file\u001b[0m\u001b[0;34m.\u001b[0m\u001b[0mseek\u001b[0m\u001b[0;34m(\u001b[0m\u001b[0morig_position\u001b[0m\u001b[0;34m)\u001b[0m\u001b[0;34m\u001b[0m\u001b[0;34m\u001b[0m\u001b[0m\n\u001b[1;32m    711\u001b[0m                     \u001b[0;32mreturn\u001b[0m \u001b[0mtorch\u001b[0m\u001b[0;34m.\u001b[0m\u001b[0mjit\u001b[0m\u001b[0;34m.\u001b[0m\u001b[0mload\u001b[0m\u001b[0;34m(\u001b[0m\u001b[0mopened_file\u001b[0m\u001b[0;34m)\u001b[0m\u001b[0;34m\u001b[0m\u001b[0;34m\u001b[0m\u001b[0m\n\u001b[0;32m--> 712\u001b[0;31m                 \u001b[0;32mreturn\u001b[0m \u001b[0m_load\u001b[0m\u001b[0;34m(\u001b[0m\u001b[0mopened_zipfile\u001b[0m\u001b[0;34m,\u001b[0m \u001b[0mmap_location\u001b[0m\u001b[0;34m,\u001b[0m \u001b[0mpickle_module\u001b[0m\u001b[0;34m,\u001b[0m \u001b[0;34m**\u001b[0m\u001b[0mpickle_load_args\u001b[0m\u001b[0;34m)\u001b[0m\u001b[0;34m\u001b[0m\u001b[0;34m\u001b[0m\u001b[0m\n\u001b[0m\u001b[1;32m    713\u001b[0m         \u001b[0;32mreturn\u001b[0m \u001b[0m_legacy_load\u001b[0m\u001b[0;34m(\u001b[0m\u001b[0mopened_file\u001b[0m\u001b[0;34m,\u001b[0m \u001b[0mmap_location\u001b[0m\u001b[0;34m,\u001b[0m \u001b[0mpickle_module\u001b[0m\u001b[0;34m,\u001b[0m \u001b[0;34m**\u001b[0m\u001b[0mpickle_load_args\u001b[0m\u001b[0;34m)\u001b[0m\u001b[0;34m\u001b[0m\u001b[0;34m\u001b[0m\u001b[0m\n\u001b[1;32m    714\u001b[0m \u001b[0;34m\u001b[0m\u001b[0m\n",
      "\u001b[0;32m/anaconda/envs/molkgnn/lib/python3.7/site-packages/torch/serialization.py\u001b[0m in \u001b[0;36m_load\u001b[0;34m(zip_file, map_location, pickle_module, pickle_file, **pickle_load_args)\u001b[0m\n\u001b[1;32m   1044\u001b[0m     \u001b[0munpickler\u001b[0m \u001b[0;34m=\u001b[0m \u001b[0mUnpicklerWrapper\u001b[0m\u001b[0;34m(\u001b[0m\u001b[0mdata_file\u001b[0m\u001b[0;34m,\u001b[0m \u001b[0;34m**\u001b[0m\u001b[0mpickle_load_args\u001b[0m\u001b[0;34m)\u001b[0m\u001b[0;34m\u001b[0m\u001b[0;34m\u001b[0m\u001b[0m\n\u001b[1;32m   1045\u001b[0m     \u001b[0munpickler\u001b[0m\u001b[0;34m.\u001b[0m\u001b[0mpersistent_load\u001b[0m \u001b[0;34m=\u001b[0m \u001b[0mpersistent_load\u001b[0m\u001b[0;34m\u001b[0m\u001b[0;34m\u001b[0m\u001b[0m\n\u001b[0;32m-> 1046\u001b[0;31m     \u001b[0mresult\u001b[0m \u001b[0;34m=\u001b[0m \u001b[0munpickler\u001b[0m\u001b[0;34m.\u001b[0m\u001b[0mload\u001b[0m\u001b[0;34m(\u001b[0m\u001b[0;34m)\u001b[0m\u001b[0;34m\u001b[0m\u001b[0;34m\u001b[0m\u001b[0m\n\u001b[0m\u001b[1;32m   1047\u001b[0m \u001b[0;34m\u001b[0m\u001b[0m\n\u001b[1;32m   1048\u001b[0m     \u001b[0mtorch\u001b[0m\u001b[0;34m.\u001b[0m\u001b[0m_utils\u001b[0m\u001b[0;34m.\u001b[0m\u001b[0m_validate_loaded_sparse_tensors\u001b[0m\u001b[0;34m(\u001b[0m\u001b[0;34m)\u001b[0m\u001b[0;34m\u001b[0m\u001b[0;34m\u001b[0m\u001b[0m\n",
      "\u001b[0;32m/anaconda/envs/molkgnn/lib/python3.7/site-packages/torch/serialization.py\u001b[0m in \u001b[0;36mfind_class\u001b[0;34m(self, mod_name, name)\u001b[0m\n\u001b[1;32m   1037\u001b[0m                     \u001b[0;32mpass\u001b[0m\u001b[0;34m\u001b[0m\u001b[0;34m\u001b[0m\u001b[0m\n\u001b[1;32m   1038\u001b[0m             \u001b[0mmod_name\u001b[0m \u001b[0;34m=\u001b[0m \u001b[0mload_module_mapping\u001b[0m\u001b[0;34m.\u001b[0m\u001b[0mget\u001b[0m\u001b[0;34m(\u001b[0m\u001b[0mmod_name\u001b[0m\u001b[0;34m,\u001b[0m \u001b[0mmod_name\u001b[0m\u001b[0;34m)\u001b[0m\u001b[0;34m\u001b[0m\u001b[0;34m\u001b[0m\u001b[0m\n\u001b[0;32m-> 1039\u001b[0;31m             \u001b[0;32mreturn\u001b[0m \u001b[0msuper\u001b[0m\u001b[0;34m(\u001b[0m\u001b[0;34m)\u001b[0m\u001b[0;34m.\u001b[0m\u001b[0mfind_class\u001b[0m\u001b[0;34m(\u001b[0m\u001b[0mmod_name\u001b[0m\u001b[0;34m,\u001b[0m \u001b[0mname\u001b[0m\u001b[0;34m)\u001b[0m\u001b[0;34m\u001b[0m\u001b[0;34m\u001b[0m\u001b[0m\n\u001b[0m\u001b[1;32m   1040\u001b[0m \u001b[0;34m\u001b[0m\u001b[0m\n\u001b[1;32m   1041\u001b[0m     \u001b[0;31m# Load the data (which may in turn use `persistent_load` to load tensors)\u001b[0m\u001b[0;34m\u001b[0m\u001b[0;34m\u001b[0m\u001b[0;34m\u001b[0m\u001b[0m\n",
      "\u001b[0;31mAttributeError\u001b[0m: Can't get attribute 'DataEdgeAttr' on <module 'torch_geometric.data.data' from '/anaconda/envs/molkgnn/lib/python3.7/site-packages/torch_geometric/data/data.py'>"
     ]
    }
   ],
   "source": [
    "QSARDataset(root = '../qsar-pytorch/Data/preprocessed',\n",
    "        dataset = 'HTR2B_A_1')"
   ]
  },
  {
   "cell_type": "code",
   "execution_count": 29,
   "id": "7f42e112",
   "metadata": {},
   "outputs": [],
   "source": [
    "raw_dir = \"/home/hojaechoi/work/qsar-pytorch/Data/\"\n",
    "base_dir = \"/home/hojaechoi/work/qsar-pytorch/Data/preprocessed/\"\n",
    "data_name_list = [\"tox21-tshr-agonist-p1\",\n",
    "                  \"tox21-tshr-antagonist-p1\",\n",
    "                  \"tox21-tshr-wt-p1\",\n",
    "                  \"tox21-trhr-hek293-p1\",\n",
    "                  \"pth1r_patent_A\",\n",
    "                  \"tlr7_patent_A\",\n",
    "                  \"tlr7_patent_B\",\n",
    "                  \"GRM5_A_2\",\n",
    "                  \"HTR2B_A_1\"]"
   ]
  },
  {
   "cell_type": "code",
   "execution_count": 6,
   "id": "01255072",
   "metadata": {},
   "outputs": [
    {
     "name": "stderr",
     "output_type": "stream",
     "text": [
      "usage: ipykernel_launcher.py [-h] [--logger [LOGGER]]\n",
      "                             [--checkpoint_callback [CHECKPOINT_CALLBACK]]\n",
      "                             [--enable_checkpointing [ENABLE_CHECKPOINTING]]\n",
      "                             [--default_root_dir DEFAULT_ROOT_DIR]\n",
      "                             [--gradient_clip_val GRADIENT_CLIP_VAL]\n",
      "                             [--gradient_clip_algorithm GRADIENT_CLIP_ALGORITHM]\n",
      "                             [--process_position PROCESS_POSITION]\n",
      "                             [--num_nodes NUM_NODES]\n",
      "                             [--num_processes NUM_PROCESSES]\n",
      "                             [--devices DEVICES] [--gpus GPUS]\n",
      "                             [--auto_select_gpus [AUTO_SELECT_GPUS]]\n",
      "                             [--tpu_cores TPU_CORES] [--ipus IPUS]\n",
      "                             [--log_gpu_memory LOG_GPU_MEMORY]\n",
      "                             [--progress_bar_refresh_rate PROGRESS_BAR_REFRESH_RATE]\n",
      "                             [--enable_progress_bar [ENABLE_PROGRESS_BAR]]\n",
      "                             [--overfit_batches OVERFIT_BATCHES]\n",
      "                             [--track_grad_norm TRACK_GRAD_NORM]\n",
      "                             [--check_val_every_n_epoch CHECK_VAL_EVERY_N_EPOCH]\n",
      "                             [--fast_dev_run [FAST_DEV_RUN]]\n",
      "                             [--accumulate_grad_batches ACCUMULATE_GRAD_BATCHES]\n",
      "                             [--max_epochs MAX_EPOCHS]\n",
      "                             [--min_epochs MIN_EPOCHS] [--max_steps MAX_STEPS]\n",
      "                             [--min_steps MIN_STEPS] [--max_time MAX_TIME]\n",
      "                             [--limit_train_batches LIMIT_TRAIN_BATCHES]\n",
      "                             [--limit_val_batches LIMIT_VAL_BATCHES]\n",
      "                             [--limit_test_batches LIMIT_TEST_BATCHES]\n",
      "                             [--limit_predict_batches LIMIT_PREDICT_BATCHES]\n",
      "                             [--val_check_interval VAL_CHECK_INTERVAL]\n",
      "                             [--flush_logs_every_n_steps FLUSH_LOGS_EVERY_N_STEPS]\n",
      "                             [--log_every_n_steps LOG_EVERY_N_STEPS]\n",
      "                             [--accelerator ACCELERATOR] [--strategy STRATEGY]\n",
      "                             [--sync_batchnorm [SYNC_BATCHNORM]]\n",
      "                             [--precision PRECISION]\n",
      "                             [--enable_model_summary [ENABLE_MODEL_SUMMARY]]\n",
      "                             [--weights_summary WEIGHTS_SUMMARY]\n",
      "                             [--weights_save_path WEIGHTS_SAVE_PATH]\n",
      "                             [--num_sanity_val_steps NUM_SANITY_VAL_STEPS]\n",
      "                             [--resume_from_checkpoint RESUME_FROM_CHECKPOINT]\n",
      "                             [--profiler PROFILER] [--benchmark [BENCHMARK]]\n",
      "                             [--deterministic [DETERMINISTIC]]\n",
      "                             [--reload_dataloaders_every_n_epochs RELOAD_DATALOADERS_EVERY_N_EPOCHS]\n",
      "                             [--auto_lr_find [AUTO_LR_FIND]]\n",
      "                             [--replace_sampler_ddp [REPLACE_SAMPLER_DDP]]\n",
      "                             [--detect_anomaly [DETECT_ANOMALY]]\n",
      "                             [--auto_scale_batch_size [AUTO_SCALE_BATCH_SIZE]]\n",
      "                             [--prepare_data_per_node [PREPARE_DATA_PER_NODE]]\n",
      "                             [--plugins PLUGINS] [--amp_backend AMP_BACKEND]\n",
      "                             [--amp_level AMP_LEVEL]\n",
      "                             [--move_metrics_to_cpu [MOVE_METRICS_TO_CPU]]\n",
      "                             [--multiple_trainloader_mode MULTIPLE_TRAINLOADER_MODE]\n",
      "                             [--stochastic_weight_avg [STOCHASTIC_WEIGHT_AVG]]\n",
      "                             [--terminate_on_nan [TERMINATE_ON_NAN]]\n",
      "                             [--seed SEED] [--validate] [--test]\n",
      "                             [--record_valid_pred] [--train_metric]\n",
      "                             [--warmup_iterations WARMUP_ITERATIONS]\n",
      "                             [--peak_lr PEAK_LR] [--end_lr END_LR]\n",
      "                             [--weight_decay WEIGHT_DECAY]\n",
      "                             [--ffn_dropout_rate FFN_DROPOUT_RATE]\n",
      "                             [--ffn_hidden_dim FFN_HIDDEN_DIM]\n",
      "                             [--task_dim TASK_DIM] [--num_layers NUM_LAYERS]\n",
      "                             [--num_kernel1_1hop NUM_KERNEL1_1HOP]\n",
      "                             [--num_kernel2_1hop NUM_KERNEL2_1HOP]\n",
      "                             [--num_kernel3_1hop NUM_KERNEL3_1HOP]\n",
      "                             [--num_kernel4_1hop NUM_KERNEL4_1HOP]\n",
      "                             [--num_kernel1_Nhop NUM_KERNEL1_NHOP]\n",
      "                             [--num_kernel2_Nhop NUM_KERNEL2_NHOP]\n",
      "                             [--num_kernel3_Nhop NUM_KERNEL3_NHOP]\n",
      "                             [--num_kernel4_Nhop NUM_KERNEL4_NHOP]\n",
      "                             [--node_feature_dim NODE_FEATURE_DIM]\n",
      "                             [--edge_feature_dim EDGE_FEATURE_DIM]\n",
      "                             [--hidden_dim HIDDEN_DIM]\n",
      "                             [--dropout_ratio DROPOUT_RATIO]\n",
      "                             [--dataset_name DATASET_NAME]\n",
      "                             [--num_workers NUM_WORKERS]\n",
      "                             [--batch_size BATCH_SIZE]\n",
      "                             [--enable_oversampling_with_replacement]\n",
      "                             [--dataset_path DATASET_PATH]\n",
      "                             [--enable_pretraining ENABLE_PRETRAINING]\n",
      "                             [--task_name TASK_NAME] [--machine MACHINE]\n",
      "                             [--gnn_type GNN_TYPE]\n",
      "                             [--task_comment TASK_COMMENT]\n",
      "ipykernel_launcher.py: error: ambiguous option: --f=/home/hojaechoi/.local/share/jupyter/runtime/kernel-v2-2230961Lb1QcTgt43Vs.json could match --fast_dev_run, --flush_logs_every_n_steps, --ffn_dropout_rate, --ffn_hidden_dim\n"
     ]
    },
    {
     "ename": "SystemExit",
     "evalue": "2",
     "output_type": "error",
     "traceback": [
      "An exception has occurred, use %tb to see the full traceback.\n",
      "\u001b[0;31mSystemExit\u001b[0m\u001b[0;31m:\u001b[0m 2\n"
     ]
    },
    {
     "name": "stderr",
     "output_type": "stream",
     "text": [
      "Bad pipe message: %s [b',\\x90\\xa5&\\x1ah \\x8d\\xc5\\xad\\xe5\\xb9\\x98= \\x88!\\xd5\\x00\\x00\\xa2\\xc0\\x14\\xc0\\n\\x009\\x008\\x007\\x006\\x00\\x88']\n",
      "Bad pipe message: %s [b\"\\xce\\xe9oF\\xee\\xdb]2\\xc1\\x12\\xc9\\xdf\\xfe\\rIgXE\\x00\\x00\\x86\\xc00\\xc0,\\xc0(\\xc0$\\xc0\\x14\\xc0\\n\\x00\\xa5\\x00\\xa3\\x00\\xa1\\x00\\x9f\\x00k\\x00j\\x00i\\x00h\\x009\\x008\\x007\\x006\\xc02\\xc0.\\xc0*\\xc0&\\xc0\\x0f\\xc0\\x05\\x00\\x9d\\x00=\\x005\\xc0/\\xc0+\\xc0'\\xc0#\\xc0\\x13\\xc0\\t\\x00\\xa4\\x00\\xa2\\x00\\xa0\\x00\\x9e\\x00g\\x00@\\x00?\\x00\", b'3\\x002\\x001\\x000\\xc01\\xc0-\\xc0)\\xc0%\\xc0\\x0e\\xc0\\x04\\x00\\x9c\\x00<\\x00/\\x00\\x9a\\x00\\x99\\x00\\x98\\x00\\x97\\x00\\x96\\x00\\x07\\xc0\\x11\\xc0\\x07\\xc0\\x0c\\xc0\\x02\\x00\\x05\\x00\\x04\\x00\\xff\\x02\\x01\\x00\\x00g\\x00\\x00\\x00\\x0e\\x00']\n",
      "Bad pipe message: %s [b\"\\xce\\x80\\xb2\\x8a3\\xac\\xce\\x82\\x8c\\x9d\\x18\\x1dG`cf\\xc2\\xbe\\x00\\x00\\xf4\\xc00\\xc0,\\xc0(\\xc0$\\xc0\\x14\\xc0\\n\\x00\\xa5\\x00\\xa3\\x00\\xa1\\x00\\x9f\\x00k\\x00j\\x00i\\x00h\\x009\\x008\\x007\\x006\\x00\\x88\\x00\\x87\\x00\\x86\\x00\\x85\\xc0\\x19\\x00\\xa7\\x00m\\x00:\\x00\\x89\\xc02\\xc0.\\xc0*\\xc0&\\xc0\\x0f\\xc0\\x05\\x00\\x9d\\x00=\\x005\\x00\\x84\\xc0/\\xc0+\\xc0'\\xc0#\\xc0\\x13\\xc0\\t\\x00\\xa4\\x00\\xa2\\x00\\xa0\\x00\\x9e\\x00g\\x00@\\x00?\\x00>\\x003\\x002\\x001\\x000\\x00\\x9a\\x00\\x99\\x00\\x98\\x00\\x97\\x00E\\x00D\\x00C\\x00B\\xc0\\x18\\x00\\xa6\\x00l\\x004\\x00\\x9b\\x00F\\xc01\\xc0-\\xc0)\\xc0%\\xc0\\x0e\\xc0\\x04\\x00\\x9c\\x00<\\x00/\\x00\\x96\\x00A\\x00\\x07\\xc0\\x11\\xc0\\x07\\xc0\\x16\\x00\\x18\\xc0\\x0c\\xc0\\x02\\x00\\x05\\x00\\x04\\xc0\\x12\\xc0\\x08\\x00\\x16\\x00\\x13\\x00\\x10\\x00\\r\\xc0\\x17\\x00\\x1b\\xc0\\r\\xc0\\x03\\x00\\n\\x00\\x15\\x00\\x12\\x00\\x0f\\x00\\x0c\\x00\\x1a\\x00\\t\\x00\\x14\\x00\\x11\\x00\\x19\\x00\\x08\\x00\", b'\\x17\\x00\\x03\\xc0\\x10']\n",
      "Bad pipe message: %s [b'J\\x8ft*\\xc2\\x8e\\x8aW#\\xc3\\xf1)\\x07\\x85D\\xdb\\xf3\\xcb\\x00\\x00\\xa2\\xc0\\x14\\xc0\\n\\x009\\x008\\x007\\x006\\x00\\x88\\x00\\x87\\x00\\x86\\x00\\x85\\xc0\\x19\\x00:\\x00\\x89\\xc0\\x0f\\xc0\\x05\\x005\\x00\\x84\\xc0\\x13\\xc0\\t\\x003\\x002\\x001\\x000\\x00\\x9a\\x00\\x99\\x00\\x98\\x00\\x97\\x00E\\x00D\\x00C\\x00B\\xc0\\x18\\x004\\x00\\x9b\\x00F\\xc0\\x0e\\xc0\\x04\\x00/\\x00\\x96']\n",
      "Bad pipe message: %s [b'\\x8e\\x89\\xc5\\xff,\\xdb\\xfe!\\x9e\\x9f(|\\xafvG\\xec\\xefR\\x00\\x00>\\xc0\\x14\\xc0\\n\\x009\\x008\\x007\\x006\\xc0\\x0f\\xc0\\x05\\x005\\xc0\\x13\\xc0\\t\\x003\\x002\\x001\\x000\\xc0', b'\\x04\\x00/\\x00\\x9a\\x00\\x99\\x00\\x98\\x00\\x97\\x00\\x96']\n",
      "Bad pipe message: %s [b'\\x00\\t127.0.0.1']\n"
     ]
    }
   ],
   "source": [
    "\n",
    "\n",
    "print(f'In Testing Mode:')\n",
    "print(f'default_root_dir:{args.default_root_dir}')\n",
    "model_dict = {}\n",
    "# Load last model\n",
    "last_path = osp.join(args.default_root_dir, 'last.ckpt')\n",
    "model  = GNNModel.load_from_checkpoint(last_path, gnn_type=gnn_type, args=args)\n",
    "model_dict['last'] = model\n",
    "print('====last_result====:\\n')\n",
    "last_result = trainer.test(model, datamodule=data_module)\n",
    "os.rename('logs/test_sample_scores.log',\n",
    "            'logs/last_test_sample_scores.log')\n",
    "\n",
    "# Save the result to a file\n",
    "filename = 'logs/test_result.log'\n",
    "os.makedirs(os.path.dirname(filename), exist_ok=True)\n",
    "with open(filename, 'w') as out_file:\n",
    "    out_file.write(f'{args.dataset_name}\\n')\n",
    "    out_file.write('last:\\n')\n",
    "    out_file.write(f'{str(last_result)}\\n')\n",
    "\n",
    "    for metric in data_module.dataset[\"metrics\"]:\n",
    "        best_result, best_model = load_best_model(trainer=trainer, data_module=data_module, metric=metric, args=args)\n",
    "        model_dict[f'{metric}_best'] = best_model\n",
    "        if best_result is not False:\n",
    "            out_file.write(f'best_{metric}:\\n')\n",
    "            out_file.write(f'{str(best_result)}\\n')\n",
    "    out_file.write(f'args:\\n')\n",
    "    out_file.write(f'{args}')\n",
    "return model_dict"
   ]
  },
  {
   "cell_type": "code",
   "execution_count": 131,
   "id": "7f925ca7",
   "metadata": {},
   "outputs": [],
   "source": [
    "import glob\n",
    "import os.path as osp\n",
    "from deargen_qsar.model.molkgnn import GNNModel\n",
    "\n",
    "def load_best_model(trainer, data_module, metric=None, args=None):\n",
    "    # Load best model\n",
    "    search_name = f'best*_{metric}*'\n",
    "    all_files = glob.glob(osp.join(args.default_root_dir, search_name))\n",
    "    if len(all_files) == 1:\n",
    "        best_path = all_files[0]\n",
    "    elif len(all_files) >1:\n",
    "        print(f\"entry::more than one best model found for {metric}!!!\")\n",
    "        return False\n",
    "    elif len(all_files) ==0:\n",
    "        print(f'No best model saved for {metric}')\n",
    "        return False\n",
    "    print(f\"glob result:{best_path}\")\n",
    "\n",
    "    model  = GNNModel.load_from_checkpoint(best_path, gnn_type=gnn_type, args=args)\n",
    "    print(f'====best_{metric}_result====:\\n')\n",
    "    best_result = trainer.test(model, datamodule=data_module)\n",
    "    new_name = f'logs/best_{metric}_sample_scores.log'\n",
    "    os.rename('logs/test_sample_scores.log', new_name)\n",
    "    return best_result"
   ]
  },
  {
   "cell_type": "code",
   "execution_count": 132,
   "id": "9442d930",
   "metadata": {},
   "outputs": [
    {
     "name": "stdout",
     "output_type": "stream",
     "text": [
      "load data from data/GRM5_A_2_test.csv\n",
      "load data from data/GRM5_A_2_train.csv\n"
     ]
    }
   ],
   "source": [
    "config_file = \"config/config_dti/config.yaml\"\n",
    "config = Config.parse_config(config_file)\n",
    "config.state_dict = 'model_weight/fold0_best_model.ckpt'\n",
    "embedder = DearDTIEmbedder()\n",
    "embedder.load_embedder(model=config.model, state_dict=config.state_dict, device=config.device)"
   ]
  },
  {
   "cell_type": "code",
   "execution_count": 85,
   "id": "78e54f40",
   "metadata": {},
   "outputs": [],
   "source": [
    "dti_model = embedder.drug_model\n",
    "\n",
    "batch_norm = True\n",
    "        \n",
    "GNNlayers = torch.nn.ModuleList([ GNNLayer({'conv': getattr(dti_model, f'conv{i}'), \n",
    "            'bn': getattr(dti_model, f'g{i}_bn'),\n",
    "            'relu': getattr(dti_model, 'relu')}) for i in range(1, 4)])\n",
    "pool_layer = PoolLayer()\n",
    "FClayers = torch.nn.ModuleList([ FCLayer({'fc': getattr(dti_model, f'fc_g{i}'), \n",
    "            'bn': getattr(dti_model, f'fc_g{i}_bn'),\n",
    "            'relu': getattr(dti_model, 'relu')}, \n",
    "            batch_norm = batch_norm) for i in range(1, 3)])\n",
    "    \n",
    "new_dti_model = EmbbedLayerDict({'gnn_layers' : Sequential(*GNNlayers),\n",
    "                        'fc_layers' : Sequential(*FClayers)})"
   ]
  },
  {
   "cell_type": "code",
   "execution_count": 74,
   "id": "c56a0ce4",
   "metadata": {},
   "outputs": [
    {
     "data": {
      "text/plain": [
       "odict_keys(['gnn_layers', 'fc_layers'])"
      ]
     },
     "execution_count": 74,
     "metadata": {},
     "output_type": "execute_result"
    }
   ],
   "source": [
    "new_dti_model.keys()"
   ]
  },
  {
   "cell_type": "code",
   "execution_count": 80,
   "id": "eae21486",
   "metadata": {},
   "outputs": [
    {
     "name": "stdout",
     "output_type": "stream",
     "text": [
      " EmbbedLayerSequence(\n",
      "  (0): GNNLayer(\n",
      "    (conv): GATv2Conv(78, 78, heads=1)\n",
      "    (bn): GraphNorm(78)\n",
      "    (relu): ReLU()\n",
      "  )\n",
      "  (1): GNNLayer(\n",
      "    (conv): GATv2Conv(78, 156, heads=1)\n",
      "    (bn): GraphNorm(156)\n",
      "    (relu): ReLU()\n",
      "  )\n",
      "  (2): GNNLayer(\n",
      "    (conv): GATv2Conv(156, 312, heads=1)\n",
      "    (bn): GraphNorm(312)\n",
      "    (relu): ReLU()\n",
      "  )\n",
      "  (3): PoolLayer()\n",
      "  (4): FCLayer(\n",
      "    (fc): Linear(in_features=312, out_features=1024, bias=True)\n",
      "    (bn): BatchNorm1d(1024, eps=1e-05, momentum=0.1, affine=True, track_running_stats=True)\n",
      "    (relu): ReLU()\n",
      "  )\n",
      "  (5): FCLayer(\n",
      "    (fc): Linear(in_features=1024, out_features=128, bias=True)\n",
      "    (bn): BatchNorm1d(128, eps=1e-05, momentum=0.1, affine=True, track_running_stats=True)\n",
      "    (relu): ReLU()\n",
      "  )\n",
      ")\n",
      "0 GNNLayer(\n",
      "  (conv): GATv2Conv(78, 78, heads=1)\n",
      "  (bn): GraphNorm(78)\n",
      "  (relu): ReLU()\n",
      ")\n",
      "0.conv GATv2Conv(78, 78, heads=1)\n",
      "0.conv.aggr_module SumAggregation()\n",
      "0.conv.lin_l Linear(78, 78, bias=True)\n",
      "0.conv.lin_r Linear(78, 78, bias=True)\n",
      "0.bn GraphNorm(78)\n",
      "0.relu ReLU()\n",
      "1 GNNLayer(\n",
      "  (conv): GATv2Conv(78, 156, heads=1)\n",
      "  (bn): GraphNorm(156)\n",
      "  (relu): ReLU()\n",
      ")\n",
      "1.conv GATv2Conv(78, 156, heads=1)\n",
      "1.conv.aggr_module SumAggregation()\n",
      "1.conv.lin_l Linear(78, 156, bias=True)\n",
      "1.conv.lin_r Linear(78, 156, bias=True)\n",
      "1.bn GraphNorm(156)\n",
      "2 GNNLayer(\n",
      "  (conv): GATv2Conv(156, 312, heads=1)\n",
      "  (bn): GraphNorm(312)\n",
      "  (relu): ReLU()\n",
      ")\n",
      "2.conv GATv2Conv(156, 312, heads=1)\n",
      "2.conv.aggr_module SumAggregation()\n",
      "2.conv.lin_l Linear(156, 312, bias=True)\n",
      "2.conv.lin_r Linear(156, 312, bias=True)\n",
      "2.bn GraphNorm(312)\n",
      "3 PoolLayer()\n",
      "4 FCLayer(\n",
      "  (fc): Linear(in_features=312, out_features=1024, bias=True)\n",
      "  (bn): BatchNorm1d(1024, eps=1e-05, momentum=0.1, affine=True, track_running_stats=True)\n",
      "  (relu): ReLU()\n",
      ")\n",
      "4.fc Linear(in_features=312, out_features=1024, bias=True)\n",
      "4.bn BatchNorm1d(1024, eps=1e-05, momentum=0.1, affine=True, track_running_stats=True)\n",
      "5 FCLayer(\n",
      "  (fc): Linear(in_features=1024, out_features=128, bias=True)\n",
      "  (bn): BatchNorm1d(128, eps=1e-05, momentum=0.1, affine=True, track_running_stats=True)\n",
      "  (relu): ReLU()\n",
      ")\n",
      "5.fc Linear(in_features=1024, out_features=128, bias=True)\n",
      "5.bn BatchNorm1d(128, eps=1e-05, momentum=0.1, affine=True, track_running_stats=True)\n"
     ]
    }
   ],
   "source": [
    "for name, module in  embedder.emb_model.named_modules():\n",
    "    print(name, module)\n",
    "    # if isinstance(module, ReLU):\n",
    "    #     print('relu')\n",
    "    #     module = Identity()\n",
    "# embedder.emb_model[0]\n",
    "# .get_submodule('module_3')"
   ]
  },
  {
   "cell_type": "code",
   "execution_count": 16,
   "id": "d6f2422b",
   "metadata": {},
   "outputs": [],
   "source": [
    "import torch\n",
    "import torch.nn as nn\n",
    "import torch_geometric.nn as gnn\n",
    "from torch_geometric.nn import GCNConv, global_max_pool as gmp\n",
    "from typing import Any\n",
    "\n",
    "# WARNING: It is not clearly same with deargen_dti.model.dive.gcn.\n",
    "#          Therefore, if you want to reproduce *dive2dti*, please use\n",
    "#          the original `GCNNet3` module instead.\n",
    "\n",
    "\n",
    "class GATTNet(torch.nn.Module):\n",
    "    def __init__(self,\n",
    "                 in_channels:int,\n",
    "                 base_filters:int,\n",
    "                 out_channels:int,\n",
    "                 dropout:float=0.1,\n",
    "                 batch_norm:bool=False):\n",
    "        super(GATTNet, self).__init__()\n",
    "        self.batch_norm = batch_norm\n",
    "        self.in_channels = in_channels\n",
    "\n",
    "        self.conv1 = gnn.GATv2Conv(in_channels, base_filters)\n",
    "        self.conv2 = gnn.GATv2Conv(base_filters, base_filters*2)\n",
    "        self.conv3 = gnn.GATv2Conv(base_filters*2, base_filters*4)\n",
    "\n",
    "        self.g1_bn = gnn.GraphNorm(base_filters)\n",
    "        self.g2_bn = gnn.GraphNorm(base_filters*2)\n",
    "        self.g3_bn = gnn.GraphNorm(base_filters*4)      \n",
    "\n",
    "        self.fc_g1 = torch.nn.Linear(base_filters*4, 1024)\n",
    "        self.fc_g2 = torch.nn.Linear(1024, out_channels)\n",
    "        if self.batch_norm:\n",
    "            self.fc_g1_bn = nn.BatchNorm1d(1024)\n",
    "            self.fc_g2_bn = nn.BatchNorm1d(out_channels)\n",
    "        self.relu = nn.ReLU()\n",
    "        self.dropout = nn.Dropout(dropout)\n",
    "\n",
    "    def forward(self, graph)->torch.Tensor:\n",
    "        x, edge_index, batch = graph.x, graph.edge_index, graph.batch\n",
    "\n",
    "        x = self.conv1(x, edge_index)\n",
    "        x = self.g1_bn(x, batch)\n",
    "        x = self.relu(x)\n",
    "\n",
    "        x = self.conv2(x, edge_index)\n",
    "        x = self.g2_bn(x, batch)\n",
    "        x = self.relu(x)\n",
    "\n",
    "        x = self.conv3(x, edge_index)\n",
    "        x = self.g3_bn(x, batch)\n",
    "        x = self.relu(x)\n",
    "        x = gmp(x, batch)  # global max pooling\n",
    "\n",
    "        x = self.fc_g1(x)\n",
    "        if self.batch_norm:\n",
    "            # There is an error here when I use batch_norm\n",
    "            x = self.fc_g1_bn(x)\n",
    "        x = self.relu(x)\n",
    "        x = self.dropout(x)\n",
    "        x = self.fc_g2(x)\n",
    "        if self.batch_norm:\n",
    "            x = self.fc_g2_bn(x)\n",
    "\n",
    "        return x\n"
   ]
  },
  {
   "cell_type": "code",
   "execution_count": 117,
   "id": "d3b81c11",
   "metadata": {},
   "outputs": [],
   "source": [
    "device = next(embedder.emb_model.parameters()).device\n",
    "\n",
    "tgdata = transform_drug('CC1(C)CC(=O)N(c2ccc(C#Cc3ccccc3)cn2)C1').to(device)"
   ]
  },
  {
   "cell_type": "code",
   "execution_count": 122,
   "id": "fdd2cd73",
   "metadata": {},
   "outputs": [
    {
     "name": "stdout",
     "output_type": "stream",
     "text": [
      "0 0 <class '__main__.GNNLayer'>\n",
      "0 1 <class '__main__.GNNLayer'>\n",
      "1 1 <class '__main__.GNNLayer'>\n",
      "0 2 <class '__main__.GNNLayer'>\n",
      "1 2 <class '__main__.GNNLayer'>\n",
      "2 2 <class '__main__.GNNLayer'>\n",
      "0 3 <class '__main__.GNNLayer'>\n",
      "1 3 <class '__main__.GNNLayer'>\n",
      "2 3 <class '__main__.GNNLayer'>\n",
      "3 3 <class '__main__.PoolLayer'>\n",
      "4 4 <class '__main__.FCLayer'>\n",
      "0 4 <class '__main__.GNNLayer'>\n",
      "1 4 <class '__main__.GNNLayer'>\n",
      "2 4 <class '__main__.GNNLayer'>\n",
      "3 4 <class '__main__.PoolLayer'>\n",
      "4 5 <class '__main__.FCLayer'>\n",
      "5 5 <class '__main__.FCLayer'>\n"
     ]
    },
    {
     "data": {
      "image/png": "[encoded data removed]",
      "text/plain": [
       "<Figure size 640x480 with 1 Axes>"
      ]
     },
     "metadata": {},
     "output_type": "display_data"
    }
   ],
   "source": [
    "import pandas as pd\n",
    "import matplotlib.pyplot as plt\n",
    "for lv in range(5):\n",
    "    embedder.emb_model.eval()\n",
    "    with torch.no_grad():\n",
    "        new_tgdata = embedder.emb_model(tgdata, level = lv)\n",
    "    pd.Series(new_tgdata.cpu().numpy().ravel()).hist(bins = 40, alpha = 0.3, label = lv)\n",
    "plt.legend();plt.show()"
   ]
  },
  {
   "cell_type": "code",
   "execution_count": 123,
   "id": "792aaef5",
   "metadata": {},
   "outputs": [
    {
     "name": "stdout",
     "output_type": "stream",
     "text": [
      "0 0 <class '__main__.GNNLayer'>\n",
      "0 1 <class '__main__.GNNLayer'>\n",
      "1 1 <class '__main__.GNNLayer'>\n",
      "0 2 <class '__main__.GNNLayer'>\n",
      "1 2 <class '__main__.GNNLayer'>\n",
      "2 2 <class '__main__.GNNLayer'>\n",
      "0 3 <class '__main__.GNNLayer'>\n",
      "1 3 <class '__main__.GNNLayer'>\n",
      "2 3 <class '__main__.GNNLayer'>\n",
      "3 3 <class '__main__.PoolLayer'>\n",
      "4 4 <class '__main__.FCLayer'>\n",
      "0 4 <class '__main__.GNNLayer'>\n",
      "1 4 <class '__main__.GNNLayer'>\n",
      "2 4 <class '__main__.GNNLayer'>\n",
      "3 4 <class '__main__.PoolLayer'>\n",
      "4 5 <class '__main__.FCLayer'>\n",
      "5 5 <class '__main__.FCLayer'>\n"
     ]
    },
    {
     "data": {
      "image/png": "[encoded data removed]",
      "text/plain": [
       "<Figure size 640x480 with 1 Axes>"
      ]
     },
     "metadata": {},
     "output_type": "display_data"
    }
   ],
   "source": [
    "import pandas as pd\n",
    "for lv in range(5):\n",
    "    embedder.emb_model.eval()\n",
    "    with torch.no_grad():\n",
    "        new_tgdata = embedder.emb_model(tgdata, level = lv, reduce = 'max')\n",
    "    pd.Series(new_tgdata.cpu().numpy().ravel()).hist(bins = 40, alpha = 0.3, label = lv)\n",
    "plt.legend();plt.show()"
   ]
  },
  {
   "cell_type": "code",
   "execution_count": 14,
   "id": "60e20f83",
   "metadata": {},
   "outputs": [],
   "source": [
    "from torch_geometric.data import Data\n",
    "from torch_geometric.nn import (Sequential, \n",
    "                                global_max_pool, global_mean_pool)\n",
    "\n",
    "\n",
    "\n",
    "class Seperator(torch.nn.Module):\n",
    "    def forward(self, graph):\n",
    "        return graph.x, graph.edge_index, graph.batch\n",
    "\n",
    "class Aggregator(torch.nn.Module):\n",
    "    def forward(self, **kwargs):\n",
    "        graph = Data(**kwargs)\n",
    "        return graph\n",
    "\n",
    "class EmbbedLayerSequence(torch.nn.Sequential):\n",
    "    def forward(self, input, level = -1, reduce = 'mean'):\n",
    "        for i, module in enumerate(self):\n",
    "            if i < level or level < 0:\n",
    "                input = module(input)\n",
    "            else:\n",
    "                break\n",
    "        \n",
    "        if reduce == 'mean':\n",
    "            return global_mean_pool(input.x, input.batch)\n",
    "        elif reduce == 'max':\n",
    "            return global_max_pool(input.x, input.batch)\n",
    "        else:\n",
    "            return input\n",
    "        \n",
    "layers = [ (tgSequential('graph', [\n",
    "                            (Seperator(), 'graph -> x, edge_index, batch'),\n",
    "                            (getattr(embedder.emb_model, f'conv{i}'), 'x, edge_index -> x'),\n",
    "                            (getattr(embedder.emb_model, f'g{i}_bn'), 'x, batch -> x'),\n",
    "                            (getattr(embedder.emb_model, 'relu'), 'x -> x'),\n",
    "                            (Aggregator(), 'x=x, edge_index=edge_index, batch=batch -> graph')\n",
    "                            ]), 'graph -> graph') for i in range(1,4)]\n",
    "                            \n",
    "\n",
    "GATnet1 = Sequential('graph', layers)\n",
    "\n",
    "EmbbedLayerSequence(*layers)\n",
    "\n",
    "layers = torch.nn.ModuleList([\n",
    "EmbbedLayer({'conv': embedder.emb_model.conv1, \n",
    "                    'bn': embedder.emb_model.g1_bn,\n",
    "                    'relu': embedder.emb_model.relu}),\n",
    "EmbbedLayer({'conv': embedder.emb_model.conv2, \n",
    "                    'bn': embedder.emb_model.g2_bn,\n",
    "                    'relu': embedder.emb_model.relu}),\n",
    "EmbbedLayer({'conv': embedder.emb_model.conv3, \n",
    "                    'bn': embedder.emb_model.g3_bn,\n",
    "                    'relu': embedder.emb_model.relu})\n",
    "])\n",
    "\n",
    "\n",
    "GATnet2 = EmbbedLayerSequence(*layers)\n"
   ]
  },
  {
   "cell_type": "code",
   "execution_count": 22,
   "id": "5e74acdb",
   "metadata": {},
   "outputs": [
    {
     "data": {
      "text/plain": [
       "tensor([[0.3249, 0.3056, 0.3222, 0.3238, 0.3430, 0.3560, 0.3403, 0.3498, 0.3400,\n",
       "         0.2771, 0.3275, 0.3535, 0.3759, 0.3972, 0.2766, 0.3353, 0.3327, 0.3356,\n",
       "         0.2643, 0.2861, 0.2960, 0.2914, 0.3507, 0.2951, 0.3466, 0.3523, 0.3468,\n",
       "         0.3427, 0.3268, 0.3430, 0.3297, 0.3377, 0.2942, 0.3484, 0.3275, 0.3289,\n",
       "         0.3149, 0.2614, 0.2836, 0.3371, 0.3130, 0.3579, 0.2912, 0.3134, 0.3151,\n",
       "         0.3505, 0.3645, 0.2960, 0.3571, 0.3599, 0.3526, 0.3116, 0.3017, 0.3429,\n",
       "         0.3355, 0.2950, 0.3031, 0.3314, 0.2949, 0.3618, 0.3417, 0.2779, 0.3611,\n",
       "         0.3496, 0.3163, 0.3158, 0.2916, 0.3394, 0.3526, 0.3499, 0.3556, 0.3808,\n",
       "         0.3516, 0.3336, 0.2849, 0.3686, 0.3415, 0.3485, 0.3715, 0.2866, 0.3131,\n",
       "         0.3397, 0.3035, 0.3295, 0.3479, 0.3128, 0.3732, 0.3708, 0.3563, 0.3288,\n",
       "         0.3295, 0.3460, 0.3207, 0.3692, 0.2876, 0.3478, 0.2738, 0.3349, 0.3716,\n",
       "         0.2981, 0.2935, 0.2911, 0.3653, 0.3056, 0.2943, 0.3285, 0.3627, 0.3294,\n",
       "         0.2785, 0.3553, 0.3326, 0.3327, 0.3089, 0.2814, 0.3425, 0.3391, 0.3148,\n",
       "         0.3307, 0.3296, 0.3396, 0.3154, 0.3382, 0.2914, 0.3084, 0.3205, 0.2998,\n",
       "         0.3738, 0.3280, 0.3379, 0.3277, 0.3307, 0.3124, 0.2907, 0.3499, 0.3397,\n",
       "         0.3517, 0.2935, 0.3316, 0.3674, 0.2355, 0.2949, 0.3735, 0.3464, 0.3535,\n",
       "         0.3465, 0.3791, 0.3457, 0.3549, 0.3422, 0.3690, 0.3248, 0.3619, 0.3074,\n",
       "         0.3716, 0.3556, 0.3370]], device='cuda:0', grad_fn=<MeanBackward1>)"
      ]
     },
     "execution_count": 22,
     "metadata": {},
     "output_type": "execute_result"
    }
   ],
   "source": [
    "EmbbedLayerSequence(*list(GATnet1))(tgdata, level=2)"
   ]
  },
  {
   "cell_type": "code",
   "execution_count": 16,
   "id": "d266ad3e",
   "metadata": {},
   "outputs": [],
   "source": [
    "with torch.no_grad():\n",
    "    new_tgdata = GATnet1(tgdata)\n"
   ]
  },
  {
   "cell_type": "code",
   "execution_count": 22,
   "id": "5bb1f74a",
   "metadata": {},
   "outputs": [
    {
     "ename": "TypeError",
     "evalue": "forward() missing 2 required positional arguments: 'edge_index' and 'batch'",
     "output_type": "error",
     "traceback": [
      "\u001b[0;31m---------------------------------------------------------------------------\u001b[0m",
      "\u001b[0;31mTypeError\u001b[0m                                 Traceback (most recent call last)",
      "Cell \u001b[0;32mIn[22], line 2\u001b[0m\n\u001b[1;32m      1\u001b[0m \u001b[39mwith\u001b[39;00m torch\u001b[39m.\u001b[39mno_grad():\n\u001b[0;32m----> 2\u001b[0m     new_tgdata \u001b[39m=\u001b[39m GATnet((tgdata\u001b[39m.\u001b[39;49mx,tgdata\u001b[39m.\u001b[39;49medge_index,tgdata\u001b[39m.\u001b[39;49mbatch) , level \u001b[39m=\u001b[39;49m \u001b[39m3\u001b[39;49m)\n",
      "File \u001b[0;32m/anaconda/envs/qsar_pytorch/lib/python3.8/site-packages/torch/nn/modules/module.py:1130\u001b[0m, in \u001b[0;36mModule._call_impl\u001b[0;34m(self, *input, **kwargs)\u001b[0m\n\u001b[1;32m   1126\u001b[0m \u001b[39m# If we don't have any hooks, we want to skip the rest of the logic in\u001b[39;00m\n\u001b[1;32m   1127\u001b[0m \u001b[39m# this function, and just call forward.\u001b[39;00m\n\u001b[1;32m   1128\u001b[0m \u001b[39mif\u001b[39;00m \u001b[39mnot\u001b[39;00m (\u001b[39mself\u001b[39m\u001b[39m.\u001b[39m_backward_hooks \u001b[39mor\u001b[39;00m \u001b[39mself\u001b[39m\u001b[39m.\u001b[39m_forward_hooks \u001b[39mor\u001b[39;00m \u001b[39mself\u001b[39m\u001b[39m.\u001b[39m_forward_pre_hooks \u001b[39mor\u001b[39;00m _global_backward_hooks\n\u001b[1;32m   1129\u001b[0m         \u001b[39mor\u001b[39;00m _global_forward_hooks \u001b[39mor\u001b[39;00m _global_forward_pre_hooks):\n\u001b[0;32m-> 1130\u001b[0m     \u001b[39mreturn\u001b[39;00m forward_call(\u001b[39m*\u001b[39;49m\u001b[39minput\u001b[39;49m, \u001b[39m*\u001b[39;49m\u001b[39m*\u001b[39;49mkwargs)\n\u001b[1;32m   1131\u001b[0m \u001b[39m# Do not call functions when jit is used\u001b[39;00m\n\u001b[1;32m   1132\u001b[0m full_backward_hooks, non_full_backward_hooks \u001b[39m=\u001b[39m [], []\n",
      "Cell \u001b[0;32mIn[20], line 24\u001b[0m, in \u001b[0;36mEmbbedLayerSequence.forward\u001b[0;34m(self, input, level, reduce)\u001b[0m\n\u001b[1;32m     22\u001b[0m \u001b[39mfor\u001b[39;00m i, module \u001b[39min\u001b[39;00m \u001b[39menumerate\u001b[39m(\u001b[39mself\u001b[39m):\n\u001b[1;32m     23\u001b[0m     \u001b[39mif\u001b[39;00m i \u001b[39m<\u001b[39m level \u001b[39mor\u001b[39;00m level \u001b[39m<\u001b[39m \u001b[39m0\u001b[39m:\n\u001b[0;32m---> 24\u001b[0m         \u001b[39minput\u001b[39m \u001b[39m=\u001b[39m module(\u001b[39minput\u001b[39;49m)\n\u001b[1;32m     25\u001b[0m     \u001b[39melse\u001b[39;00m:\n\u001b[1;32m     26\u001b[0m         \u001b[39mbreak\u001b[39;00m\n",
      "File \u001b[0;32m/anaconda/envs/qsar_pytorch/lib/python3.8/site-packages/torch/nn/modules/module.py:1130\u001b[0m, in \u001b[0;36mModule._call_impl\u001b[0;34m(self, *input, **kwargs)\u001b[0m\n\u001b[1;32m   1126\u001b[0m \u001b[39m# If we don't have any hooks, we want to skip the rest of the logic in\u001b[39;00m\n\u001b[1;32m   1127\u001b[0m \u001b[39m# this function, and just call forward.\u001b[39;00m\n\u001b[1;32m   1128\u001b[0m \u001b[39mif\u001b[39;00m \u001b[39mnot\u001b[39;00m (\u001b[39mself\u001b[39m\u001b[39m.\u001b[39m_backward_hooks \u001b[39mor\u001b[39;00m \u001b[39mself\u001b[39m\u001b[39m.\u001b[39m_forward_hooks \u001b[39mor\u001b[39;00m \u001b[39mself\u001b[39m\u001b[39m.\u001b[39m_forward_pre_hooks \u001b[39mor\u001b[39;00m _global_backward_hooks\n\u001b[1;32m   1129\u001b[0m         \u001b[39mor\u001b[39;00m _global_forward_hooks \u001b[39mor\u001b[39;00m _global_forward_pre_hooks):\n\u001b[0;32m-> 1130\u001b[0m     \u001b[39mreturn\u001b[39;00m forward_call(\u001b[39m*\u001b[39;49m\u001b[39minput\u001b[39;49m, \u001b[39m*\u001b[39;49m\u001b[39m*\u001b[39;49mkwargs)\n\u001b[1;32m   1131\u001b[0m \u001b[39m# Do not call functions when jit is used\u001b[39;00m\n\u001b[1;32m   1132\u001b[0m full_backward_hooks, non_full_backward_hooks \u001b[39m=\u001b[39m [], []\n",
      "\u001b[0;31mTypeError\u001b[0m: forward() missing 2 required positional arguments: 'edge_index' and 'batch'"
     ]
    }
   ],
   "source": [
    "\n",
    "with torch.no_grad():\n",
    "    new_tgdata = GATnet((tgdata.x,tgdata.edge_index,tgdata.batch) , level = 3)\n"
   ]
  },
  {
   "cell_type": "code",
   "execution_count": 15,
   "id": "fc137dff",
   "metadata": {},
   "outputs": [
    {
     "data": {
      "text/plain": [
       "torch.Size([1, 312])"
      ]
     },
     "execution_count": 15,
     "metadata": {},
     "output_type": "execute_result"
    }
   ],
   "source": [
    "new_tgdata.shape"
   ]
  },
  {
   "cell_type": "code",
   "execution_count": 17,
   "id": "5eb80d0d",
   "metadata": {},
   "outputs": [
    {
     "data": {
      "text/plain": [
       "Sequential(\n",
       "  (0): GATv2Conv(78, 78, heads=1)\n",
       "  (1): GraphNorm(78)\n",
       "  (2): ReLU()\n",
       ")"
      ]
     },
     "execution_count": 17,
     "metadata": {},
     "output_type": "execute_result"
    }
   ],
   "source": [
    "layer1 = Sequential('x, edge_index, batch', [\n",
    "    (embedder.emb_model.conv1, 'x, edge_index -> x'),\n",
    "    (embedder.emb_model.g1_bn, 'x, batch -> x'),\n",
    "    (embedder.emb_model.relu, 'x -> x')\n",
    "])\n",
    "layer1"
   ]
  },
  {
   "cell_type": "code",
   "execution_count": 10,
   "id": "b8b7b11e",
   "metadata": {},
   "outputs": [
    {
     "ename": "NameError",
     "evalue": "name 'preprocessor' is not defined",
     "output_type": "error",
     "traceback": [
      "\u001b[0;31m---------------------------------------------------------------------------\u001b[0m",
      "\u001b[0;31mNameError\u001b[0m                                 Traceback (most recent call last)",
      "Cell \u001b[0;32mIn[10], line 1\u001b[0m\n\u001b[0;32m----> 1\u001b[0m embedder\u001b[39m.\u001b[39mget_features(smiles\u001b[39m=\u001b[39mpreprocessor\u001b[39m.\u001b[39mdf\u001b[39m.\u001b[39mSMILES[\u001b[39m0\u001b[39m])\n",
      "\u001b[0;31mNameError\u001b[0m: name 'preprocessor' is not defined"
     ]
    }
   ],
   "source": [
    "embedder.get_features(smiles=preprocessor.df.SMILES[0])"
   ]
  },
  {
   "cell_type": "code",
   "execution_count": 11,
   "id": "50ad9e02",
   "metadata": {},
   "outputs": [
    {
     "ename": "NameError",
     "evalue": "name 'preprocessor' is not defined",
     "output_type": "error",
     "traceback": [
      "\u001b[0;31m---------------------------------------------------------------------------\u001b[0m",
      "\u001b[0;31mNameError\u001b[0m                                 Traceback (most recent call last)",
      "Cell \u001b[0;32mIn[11], line 1\u001b[0m\n\u001b[0;32m----> 1\u001b[0m preprocessor\u001b[39m.\u001b[39mdf\u001b[39m.\u001b[39mSMILES[\u001b[39m0\u001b[39m]\n",
      "\u001b[0;31mNameError\u001b[0m: name 'preprocessor' is not defined"
     ]
    }
   ],
   "source": [
    "preprocessor.df.SMILES[0]"
   ]
  },
  {
   "cell_type": "code",
   "execution_count": 18,
   "id": "52051639",
   "metadata": {},
   "outputs": [
    {
     "name": "stdout",
     "output_type": "stream",
     "text": [
      "load data from Data_common/train_test_csv/grm5_train.csv\n"
     ]
    }
   ],
   "source": [
    "\n",
    "from deargen_qsar.dataset import MolGraphData\n",
    "trainset = MolGraphData(\n",
    "      data_path=\"Data_common/train_test_csv/grm5_train.csv\",\n",
    "      protein_name='grm5',\n",
    "      target_key=\"fasta\",\n",
    "      drug_key=\"smiles\",\n",
    "      label_key='pAC50')\n"
   ]
  },
  {
   "cell_type": "code",
   "execution_count": 34,
   "id": "abdf577f",
   "metadata": {},
   "outputs": [],
   "source": [
    "from deargen_qsar.dataset.dataloader import Collater\n",
    "collate = Collater(follow_batch=[], exclude_keys=[])\n",
    "\n",
    "collated_data = collate(trainset)\n",
    "tgdata = collated_data[0].to(config.device)"
   ]
  },
  {
   "cell_type": "code",
   "execution_count": 54,
   "id": "89887cf2",
   "metadata": {},
   "outputs": [],
   "source": [
    "mf_deardti_ndarray = embedder.embed(tgdata)"
   ]
  },
  {
   "cell_type": "code",
   "execution_count": 55,
   "id": "9cb5e2a8",
   "metadata": {},
   "outputs": [
    {
     "data": {
      "text/plain": [
       "(197, 128)"
      ]
     },
     "execution_count": 55,
     "metadata": {},
     "output_type": "execute_result"
    }
   ],
   "source": [
    "mf_deardti_ndarray.shape #tolist()"
   ]
  },
  {
   "cell_type": "code",
   "execution_count": 57,
   "id": "fd31ae01",
   "metadata": {},
   "outputs": [],
   "source": [
    "mf_deardti = [vec for vec in mf_deardti_ndarray]"
   ]
  },
  {
   "cell_type": "code",
   "execution_count": null,
   "id": "8b3e6a54",
   "metadata": {},
   "outputs": [],
   "source": [
    "trainset.df.itertuples()"
   ]
  },
  {
   "cell_type": "code",
   "execution_count": 134,
   "id": "d8860c00",
   "metadata": {},
   "outputs": [],
   "source": [
    "from rdkit import Chem\n",
    "from rdkit.Chem import Descriptors\n",
    "from rdkit.Chem import AllChem\n",
    "from rdkit.Chem import DataStructs\n",
    "import numpy as np\n",
    "from rdkit.Avalon import pyAvalonTools\n",
    "from deargen_qsar.dataset.utils.scaling import convert_into_p, convert_into_nM, normalize\n",
    "import torch\n",
    "import os\n",
    "from deargen_qsar.utils.scaling import FixedPointScaler\n",
    "from deargen_qsar.dataset.mf_features.rdkit_mf import RdkitMfFeature\n",
    "# deardtidb\n",
    "from deargen_qsar.dataset.deardtidb import (load_deardti_data,\n",
    "                                            load_protein,\n",
    "                                            AVAILABLE_DATA,\n",
    "                                            AVAILABLE_PROTEIN)\n",
    "from deargen_qsar.dataset.tox21 import (load_tox21_data,\n",
    "                                        load_protein,\n",
    "                                        AVAILABLE_DATA,\n",
    "                                        AVAILABLE_PROTEIN)\n",
    "from deargen_qsar.dataset.tox21 import (load_tox21_data,\n",
    "                                        load_protein,\n",
    "                                        AVAILABLE_DATA,\n",
    "                                        AVAILABLE_PROTEIN)\n",
    "from tqdm import tqdm\n",
    "\n",
    "class MfFeaturePreprocessor:\n",
    "    def __init__(self,\n",
    "                 data_name,\n",
    "                 protein_name,\n",
    "                 base_dir: str = \"Data\",\n",
    "                 save_dir: str = None):\n",
    "        self.data_name = data_name\n",
    "        self.protein_name = protein_name\n",
    "        self.save_dir = save_dir\n",
    "        \n",
    "        if self.save_dir is None:\n",
    "            self.save_dir = os.path.join(base_dir,\n",
    "                                         \"preprocessed\",\n",
    "                                         f\"{data_name}-baseline\")\n",
    "            os.makedirs(self.save_dir, exist_ok=True)\n",
    "\n",
    "\n",
    "        # Load df\n",
    "        if protein_name in AVAILABLE_PROTEIN:\n",
    "            self.label_key = label_key = \"A\"\n",
    "            self.which_dataset = \"dtidb\"\n",
    "            self.protein = load_protein(name=self.protein_name, base_dir=base_dir)\n",
    "            df = load_deardti_data(name=self.data_name,\n",
    "                                   base_dir=base_dir,\n",
    "                                   label_key=label_key)\n",
    "\n",
    "        elif protein_name in AVAILABLE_PROTEIN:\n",
    "            self.label_key = label_key = \"AC50\"\n",
    "            self.which_dataset = \"tox21\"\n",
    "            self.protein = load_protein(name=self.protein_name, base_dir=base_dir)\n",
    "            df = load_tox21_data(name=self.data_name,\n",
    "                                 base_dir=base_dir)\n",
    "        else:\n",
    "            raise ValueError(f\"Inappropriate Protein name {protein_name}\")\n",
    "\n",
    "        error_file_path = os.path.join(base_dir, f\"preprocessed/error/{data_name}.txt\")\n",
    "        if os.path.isfile(error_file_path):\n",
    "            with open(os.path.join(base_dir, f\"preprocessed/error/{data_name}.txt\"), \"r\") as f:\n",
    "                error_list = f.readlines()\n",
    "        else:\n",
    "            error_list = []\n",
    "\n",
    "        error_list = [int(i.replace(\"\\n\", \"\")) for i in error_list]\n",
    "        error_free_list = list(set(range(len(df))).difference(error_list))\n",
    "        self.df = df.iloc[error_free_list].reset_index(drop=True)\n",
    "\n",
    "        sorted_idx = np.argsort(self.df[label_key].tolist())[::-1]\n",
    "        self.rank_dict = {index: rank for rank, index in enumerate(sorted_idx)}\n",
    "        if protein_name in AVAILABLE_PROTEIN:\n",
    "            self.df[\"pAC50\"] = self.df[label_key]\n",
    "        else:\n",
    "            self.df[\"pAC50\"] = convert_into_p(self.df[label_key])\n",
    "\n",
    "        scaler = FixedPointScaler(bias=5, scale=5)\n",
    "\n",
    "        self.df = self.df.query('pAC50 > 3').reset_index(drop=True)\n",
    "        self.df[\"pAC50\"] = scaler.transform(self.df[\"pAC50\"])\n",
    "        self.mf_feature = embedder.get_features\n",
    "\n",
    "    def preprocess(self, level=None, reduce='max'):\n",
    "        preprocessed_df = dict()\n",
    "        tbar = tqdm(range(len(self.df)))\n",
    "        for index in tbar:\n",
    "            tmp = self.df.iloc[index]\n",
    "            rank = self.rank_dict[index]\n",
    "\n",
    "            if \"pAC50\" not in preprocessed_df:\n",
    "                preprocessed_df[\"pAC50\"] = []\n",
    "            preprocessed_df[\"pAC50\"].append(tmp[\"pAC50\"])\n",
    "\n",
    "            if \"RANK\" not in preprocessed_df:\n",
    "                preprocessed_df[\"RANK\"] = []\n",
    "            preprocessed_df[\"RANK\"].append(rank)\n",
    "\n",
    "            if \"FASTA\" not in preprocessed_df:\n",
    "                preprocessed_df[\"FASTA\"] = []\n",
    "            preprocessed_df[\"FASTA\"].append(self.protein)\n",
    "\n",
    "            if self.which_dataset == \"dtidb\":\n",
    "                if \"AC50\" not in preprocessed_df:\n",
    "                    preprocessed_df[\"AC50\"] = []\n",
    "                preprocessed_df[\"AC50\"].append(convert_into_nM(tmp[\"A\"]))\n",
    "                smiles = tmp[\"smiles_string\"]\n",
    "            else:\n",
    "                if \"AC50\" not in preprocessed_df:\n",
    "                    preprocessed_df[\"AC50\"] = []\n",
    "                preprocessed_df[\"AC50\"].append(tmp[\"AC50\"])\n",
    "                smiles = tmp[\"SMILES\"]\n",
    "\n",
    "            preprocessed_feature = self.mf_feature(smiles, level=level, reduce=reduce )\n",
    "            \n",
    "            if \"MF_FEATURE\" not in preprocessed_df:\n",
    "                preprocessed_df[\"MF_FEATURE\"] = []\n",
    "            preprocessed_df[\"MF_FEATURE\"].append(preprocessed_feature)\n",
    "\n",
    "            if \"SMILES\" not in preprocessed_df:\n",
    "                preprocessed_df[\"SMILES\"] = []\n",
    "            preprocessed_df[\"SMILES\"].append(smiles)\n",
    "\n",
    "        preprocessed_df[\"MF_FEATURE\"] = np.array(preprocessed_df[\"MF_FEATURE\"])\n",
    "        # Save as h5py file\n",
    "        \n",
    "        h5py_file_path = os.path.join(self.save_dir, f\"mf_feature_dti{reduce}l{level}.h5\")\n",
    "        torch.save(preprocessed_df, h5py_file_path)"
   ]
  },
  {
   "cell_type": "code",
   "execution_count": 1,
   "id": "d543056e",
   "metadata": {},
   "outputs": [
    {
     "name": "stderr",
     "output_type": "stream",
     "text": [
      "/anaconda/envs/qsar_pytorch/lib/python3.8/site-packages/tqdm/auto.py:22: TqdmWarning: IProgress not found. Please update jupyter and ipywidgets. See https://ipywidgets.readthedocs.io/en/stable/user_install.html\n",
      "  from .autonotebook import tqdm as notebook_tqdm\n"
     ]
    },
    {
     "name": "stdout",
     "output_type": "stream",
     "text": [
      "load data from data/GRM5_A_2_test.csv\n",
      "load data from data/GRM5_A_2_train.csv\n",
      "Data(x=[22, 78], edge_index=[2, 48], smiles='CC1(C)CC(=O)N(c2ccc(C#Cc3ccccc3)cn2)C1')\n"
     ]
    },
    {
     "data": {
      "image/png": "[encoded data removed]",
      "text/plain": [
       "<Figure size 640x480 with 1 Axes>"
      ]
     },
     "metadata": {},
     "output_type": "display_data"
    }
   ],
   "source": [
    "from deargen_qsar.dataset.mf_features.deardti_enc import main\n",
    "main()"
   ]
  },
  {
   "cell_type": "code",
   "execution_count": 135,
   "id": "b7fc4253",
   "metadata": {},
   "outputs": [
    {
     "name": "stderr",
     "output_type": "stream",
     "text": [
      "100%|██████████| 218/218 [00:00<00:00, 328.14it/s]\n",
      "100%|██████████| 218/218 [00:00<00:00, 328.67it/s]\n",
      "100%|██████████| 218/218 [00:00<00:00, 251.35it/s]\n",
      "100%|██████████| 218/218 [00:00<00:00, 259.40it/s]\n",
      "100%|██████████| 218/218 [00:01<00:00, 206.25it/s]\n",
      "100%|██████████| 218/218 [00:01<00:00, 201.73it/s]\n",
      "100%|██████████| 218/218 [00:01<00:00, 202.67it/s]\n",
      "100%|██████████| 218/218 [00:01<00:00, 202.31it/s]\n",
      "100%|██████████| 218/218 [00:01<00:00, 198.36it/s]\n",
      "100%|██████████| 218/218 [00:01<00:00, 189.77it/s]\n",
      "100%|██████████| 132/132 [00:00<00:00, 408.99it/s]\n",
      "100%|██████████| 132/132 [00:00<00:00, 401.04it/s]\n",
      "100%|██████████| 132/132 [00:00<00:00, 279.41it/s]\n",
      "100%|██████████| 132/132 [00:00<00:00, 277.88it/s]\n",
      "100%|██████████| 132/132 [00:00<00:00, 219.14it/s]\n",
      "100%|██████████| 132/132 [00:00<00:00, 201.73it/s]\n",
      "100%|██████████| 132/132 [00:00<00:00, 211.15it/s]\n",
      "100%|██████████| 132/132 [00:00<00:00, 216.00it/s]\n",
      "100%|██████████| 132/132 [00:00<00:00, 211.80it/s]\n",
      "100%|██████████| 132/132 [00:00<00:00, 210.27it/s]\n",
      "100%|██████████| 501/501 [00:01<00:00, 360.75it/s]\n",
      "100%|██████████| 501/501 [00:01<00:00, 375.48it/s]\n",
      "100%|██████████| 501/501 [00:01<00:00, 267.06it/s]\n",
      "100%|██████████| 501/501 [00:01<00:00, 269.89it/s]\n",
      "100%|██████████| 501/501 [00:02<00:00, 211.79it/s]\n",
      "100%|██████████| 501/501 [00:02<00:00, 194.51it/s]\n",
      "100%|██████████| 501/501 [00:02<00:00, 192.43it/s]\n",
      "100%|██████████| 501/501 [00:02<00:00, 203.39it/s]\n",
      "100%|██████████| 501/501 [00:02<00:00, 197.02it/s]\n",
      "100%|██████████| 501/501 [00:02<00:00, 196.82it/s]\n",
      "100%|██████████| 1824/1824 [00:04<00:00, 371.51it/s]\n",
      "100%|██████████| 1824/1824 [00:04<00:00, 378.92it/s]\n",
      "100%|██████████| 1824/1824 [00:06<00:00, 271.66it/s]\n",
      "100%|██████████| 1824/1824 [00:06<00:00, 273.94it/s]\n",
      "100%|██████████| 1824/1824 [00:08<00:00, 215.29it/s]\n",
      "100%|██████████| 1824/1824 [00:08<00:00, 215.20it/s]\n",
      "100%|██████████| 1824/1824 [00:08<00:00, 205.13it/s]\n",
      "100%|██████████| 1824/1824 [00:09<00:00, 201.80it/s]\n",
      "100%|██████████| 1824/1824 [00:09<00:00, 201.33it/s]\n",
      "100%|██████████| 1824/1824 [00:09<00:00, 196.66it/s]\n",
      "100%|██████████| 1616/1616 [00:04<00:00, 360.62it/s]\n",
      "100%|██████████| 1616/1616 [00:04<00:00, 363.97it/s]\n",
      "100%|██████████| 1616/1616 [00:06<00:00, 267.44it/s]\n",
      "100%|██████████| 1616/1616 [00:06<00:00, 267.56it/s]\n",
      "100%|██████████| 1616/1616 [00:07<00:00, 212.93it/s]\n",
      "100%|██████████| 1616/1616 [00:07<00:00, 213.94it/s]\n",
      "100%|██████████| 1616/1616 [00:07<00:00, 209.32it/s]\n",
      "100%|██████████| 1616/1616 [00:07<00:00, 203.35it/s]\n",
      "100%|██████████| 1616/1616 [00:08<00:00, 199.11it/s]\n",
      "100%|██████████| 1616/1616 [00:08<00:00, 197.85it/s]\n",
      "100%|██████████| 518/518 [00:01<00:00, 358.16it/s]\n",
      "100%|██████████| 518/518 [00:01<00:00, 342.77it/s]\n",
      "100%|██████████| 518/518 [00:01<00:00, 265.28it/s]\n",
      "100%|██████████| 518/518 [00:01<00:00, 266.41it/s]\n",
      "100%|██████████| 518/518 [00:02<00:00, 197.75it/s]\n",
      "100%|██████████| 518/518 [00:02<00:00, 204.02it/s]\n",
      "100%|██████████| 518/518 [00:02<00:00, 205.24it/s]\n",
      "100%|██████████| 518/518 [00:02<00:00, 185.85it/s]\n",
      "100%|██████████| 518/518 [00:02<00:00, 185.07it/s]\n",
      "100%|██████████| 518/518 [00:02<00:00, 205.51it/s]\n"
     ]
    },
    {
     "ename": "ValueError",
     "evalue": "Inappropriate Protein name pth1r",
     "output_type": "error",
     "traceback": [
      "\u001b[0;31m---------------------------------------------------------------------------\u001b[0m",
      "\u001b[0;31mValueError\u001b[0m                                Traceback (most recent call last)",
      "Cell \u001b[0;32mIn[135], line 14\u001b[0m\n\u001b[1;32m     12\u001b[0m \u001b[39mfor\u001b[39;00m data_name, protein_name \u001b[39min\u001b[39;00m data_protein_names:\n\u001b[1;32m     13\u001b[0m     \u001b[39mfor\u001b[39;00m level, reduce \u001b[39min\u001b[39;00m product(\u001b[39mrange\u001b[39m(\u001b[39m5\u001b[39m), (\u001b[39m'\u001b[39m\u001b[39mmax\u001b[39m\u001b[39m'\u001b[39m, \u001b[39m'\u001b[39m\u001b[39mmean\u001b[39m\u001b[39m'\u001b[39m)):\n\u001b[0;32m---> 14\u001b[0m         preprocessor \u001b[39m=\u001b[39m MfFeaturePreprocessor(\n\u001b[1;32m     15\u001b[0m                     data_name\u001b[39m=\u001b[39;49mdata_name,\n\u001b[1;32m     16\u001b[0m                     protein_name\u001b[39m=\u001b[39;49mprotein_name,\n\u001b[1;32m     17\u001b[0m                     base_dir\u001b[39m=\u001b[39;49mbase_dir)\n\u001b[1;32m     18\u001b[0m         preprocessor\u001b[39m.\u001b[39mpreprocess(level\u001b[39m=\u001b[39mlevel, reduce\u001b[39m=\u001b[39mreduce)\n",
      "Cell \u001b[0;32mIn[134], line 57\u001b[0m, in \u001b[0;36mMfFeaturePreprocessor.__init__\u001b[0;34m(self, data_name, protein_name, base_dir, save_dir, use_pymf)\u001b[0m\n\u001b[1;32m     54\u001b[0m     df \u001b[39m=\u001b[39m load_tox21_data(name\u001b[39m=\u001b[39m\u001b[39mself\u001b[39m\u001b[39m.\u001b[39mdata_name,\n\u001b[1;32m     55\u001b[0m                          base_dir\u001b[39m=\u001b[39mbase_dir)\n\u001b[1;32m     56\u001b[0m \u001b[39melse\u001b[39;00m:\n\u001b[0;32m---> 57\u001b[0m     \u001b[39mraise\u001b[39;00m \u001b[39mValueError\u001b[39;00m(\u001b[39mf\u001b[39m\u001b[39m\"\u001b[39m\u001b[39mInappropriate Protein name \u001b[39m\u001b[39m{\u001b[39;00mprotein_name\u001b[39m}\u001b[39;00m\u001b[39m\"\u001b[39m)\n\u001b[1;32m     59\u001b[0m error_file_path \u001b[39m=\u001b[39m os\u001b[39m.\u001b[39mpath\u001b[39m.\u001b[39mjoin(base_dir, \u001b[39mf\u001b[39m\u001b[39m\"\u001b[39m\u001b[39mpreprocessed/error/\u001b[39m\u001b[39m{\u001b[39;00mdata_name\u001b[39m}\u001b[39;00m\u001b[39m.txt\u001b[39m\u001b[39m\"\u001b[39m)\n\u001b[1;32m     60\u001b[0m \u001b[39mif\u001b[39;00m os\u001b[39m.\u001b[39mpath\u001b[39m.\u001b[39misfile(error_file_path):\n",
      "\u001b[0;31mValueError\u001b[0m: Inappropriate Protein name pth1r"
     ]
    }
   ],
   "source": [
    "\n",
    "from deargen_qsar.dataset.utils.scaling import convert_into_p, normalize\n",
    "from itertools import product\n",
    "data_protein_names = [\n",
    "    ('GRM5_A_2', 'GRM5'.lower()), \n",
    "    ('HTR2B_A_1', 'HTR2B'.lower()),\n",
    "    ('tox21-trhr-hek293-p1', 'trhr'),\n",
    "    ('tox21-tshr-agonist-p1', 'tshr'),\n",
    "    ('tox21-tshr-antagonist-p1', 'tshr'),\n",
    "    ('tox21-tshr-wt-p1', 'tshr'),\n",
    "    ('pth1r_patent_A', 'pth1r')]\n",
    "base_dir = '/home/hojaechoi/work/qsar-pytorch/Data'\n",
    "for data_name, protein_name in data_protein_names:\n",
    "    for level, reduce in product(range(5), ('max', 'mean')):\n",
    "        preprocessor = MfFeaturePreprocessor(\n",
    "                    data_name=data_name,\n",
    "                    protein_name=protein_name,\n",
    "                    base_dir=base_dir)\n",
    "        preprocessor.preprocess(level=level, reduce=reduce)"
   ]
  },
  {
   "cell_type": "code",
   "execution_count": 13,
   "id": "fa1ccca0",
   "metadata": {},
   "outputs": [],
   "source": [
    "data_name = 'GRM5_A_2'\n",
    "protein_name = 'GRM5'.lower()\n",
    "base_dir = 'Data'\n",
    "preprocessor = MfFeaturePreprocessor(\n",
    "                 data_name=data_name,\n",
    "                 protein_name=protein_name,\n",
    "                 base_dir=base_dir)"
   ]
  },
  {
   "cell_type": "code",
   "execution_count": 24,
   "id": "7016602c",
   "metadata": {},
   "outputs": [
    {
     "name": "stdout",
     "output_type": "stream",
     "text": [
      "dict_keys(['pAC50', 'RANK', 'FASTA', 'AC50', 'MF_FEATURE', 'SMILES'])\n",
      "[7.443697499232712, 7.585026652029182, 7.4089353929735005, 7.823908740944319, 7.431798275933005, 7.236572006437063, 6.886056647693163, 7.481486060122112, 7.886056647693163, 7.67778070526608, 7.055517327849831, 8.154901959985743, 7.481486060122112, 7.823908740944319, 7.096910013008056, 8.045757490560675, 7.455931955649724, 7.602059991327962, 7.853871964321762, 7.244125144327507, 7.602059991327962, 6.576754126063192, 7.229147988357855, 7.455931955649724, 7.221848749616356, 7.236572006437063, 7.795880017344075, 7.920818753952375, 7.920818753952375, 7.387216143280264, 7.161150909262744, 7.376750709602099, 7.721246399047171, 7.161150909262744, 7.236572006437063, 6.008330992620051, 7.455931955649724, 6.886056647693163, 6.411168274405792, 7.823908740944319, 8.0, 7.568636235841012, 7.537602002101044, 6.482804102050025, 7.853871964321762, 6.166852888087215, 7.619788758288394, 7.958607314841775, 7.229147988357855, 7.853871964321762, 7.823908740944319, 7.267606240177031, 7.468521082957745, 6.686132779630847, 7.744727494896693, 7.327902142064282, 6.555955204081924, 7.823908740944319, 7.522878745280337, 7.537602002101044, 7.036212172654444, 7.657577319177793, 7.886056647693163, 8.045757490560675, 7.721246399047171, 7.522878745280337, 7.267606240177031, 7.823908740944319, 7.795880017344075, 7.619788758288394, 7.327902142064282, 7.356547323513812, 7.275724130399211, 7.809894379144197, 7.2839966563652, 7.481486060122112, 7.443697499232712, 7.366531544420413, 7.4089353929735005, 7.568636235841012, 7.886056647693163, 7.130768280269024, 6.94692155651658, 7.045757490560675, 7.060480747381382, 7.481486060122112, 7.180456064458131, 7.823908740944319, 6.747146969020107, 7.221848749616356, 7.619788758288394, 7.769551078621726, 7.920818753952375, 7.443697499232712, 7.1249387366083, 7.376750709602099, 6.3829996588791005, 7.318758762624412, 7.455931955649724, 7.214670164989233, 7.180456064458131, 7.443697499232712, 8.301029995663981, 8.397940008672037, 7.292429823902063, 7.096910013008056, 7.362229155799344, 7.537602002101044, 7.42021640338319, 7.744727494896693, 7.327902142064282, 7.167491087293763, 7.045757490560675, 7.4089353929735005, 7.920818753952375, 7.173925197299173, 7.721246399047171, 7.214670164989233, 7.455931955649724, 7.468521082957745, 6.863279432843593, 6.4089353929735005, 7.455931955649724, 6.607303046740334, 7.537602002101044, 7.455931955649724, 7.537602002101044, 7.886056647693163, 7.657577319177793, 6.853871964321762, 7.309803919971486, 7.431798275933005, 7.744727494896693, 7.337242168318426, 7.886056647693163, 7.229147988357855, 7.318758762624412, 7.958607314841775, 7.537602002101044, 7.387216143280264, 7.958607314841775, 7.494850021680094, 6.904274492767552, 6.995678626217357, 7.075720713938118, 7.958607314841775, 7.537602002101044, 7.173925197299173, 7.568636235841012, 7.229147988357855, 7.4089353929735005, 7.107905397309519, 7.602059991327962, 7.400122411373262, 7.017728766960431, 7.060480747381382, 7.568636235841012, 7.552841968657781, 7.769551078621726, 7.832773124424534, 7.920818753952375, 7.657577319177793, 6.673664139071248, 7.008773924307505, 6.991399828238082, 7.309803919971486, 6.8794260687941495, 6.24184537803261, 7.366531544420413, 7.1249387366083, 7.327902142064282, 7.508638306165727, 7.221848749616356, 7.585026652029182, 7.42021640338319, 7.602059991327962, 8.522878745280337, 7.67778070526608, 6.943095148663527, 7.4089353929735005, 7.455931955649724, 6.987162775294828, 7.494850021680094, 7.187086643357144, 7.055517327849831, 7.180456064458131, 7.494850021680094, 6.72584215073632, 7.920818753952375, 7.537602002101044, 7.136677139879544, 7.017728766960431, 7.508638306165727, 7.494850021680094, 7.568636235841012, 7.431798275933005, 7.920818753952375, 8.154901959985743, 7.638272163982407, 7.244125144327507, 7.744727494896693, 7.161150909262744, 7.167491087293763, 6.835647144215563, 6.85078088734462, 7.105880451308916, 7.244125144327507, 7.494850021680094, 7.552841968657781, 7.107905397309519, 7.886056647693163, 7.387216143280264, 7.154901959985743, 7.244125144327507, 7.161150909262744, 7.244125144327507, 7.4089353929735005, 6.277366077466188]\n",
      "[0.48873949984654247, 0.5170053304058364, 0.4817870785947001, 0.5647817481888637, 0.486359655186601, 0.4473144012874126, 0.3772113295386326, 0.4962972120244224, 0.5772113295386326, 0.5355561410532159, 0.4111034655699662, 0.6309803919971486, 0.4962972120244224, 0.5647817481888637, 0.41938200260161124, 0.609151498112135, 0.4911863911299449, 0.5204119982655924, 0.5707743928643524, 0.44882502886550135, 0.5204119982655924, 0.3153508252126384, 0.44582959767157104, 0.4911863911299449, 0.4443697499232712, 0.4473144012874126, 0.559176003468815, 0.584163750790475, 0.584163750790475, 0.4774432286560527, 0.43223018185254886, 0.47535014192041986, 0.5442492798094343, 0.43223018185254886, 0.4473144012874126, 0.2016661985240102, 0.4911863911299449, 0.3772113295386326, 0.2822336548811585, 0.5647817481888637, 0.6, 0.5137272471682024, 0.5075204004202089, 0.29656082041000503, 0.5707743928643524, 0.23337057761744298, 0.5239577516576788, 0.5917214629683549, 0.44582959767157104, 0.5707743928643524, 0.5647817481888637, 0.45352124803540617, 0.49370421659154895, 0.33722655592616935, 0.5489454989793385, 0.4655804284128564, 0.31119104081638477, 0.5647817481888637, 0.5045757490560675, 0.5075204004202089, 0.4072424345308889, 0.5315154638355587, 0.5772113295386326, 0.609151498112135, 0.5442492798094343, 0.5045757490560675, 0.45352124803540617, 0.5647817481888637, 0.559176003468815, 0.5239577516576788, 0.4655804284128564, 0.4713094647027624, 0.4551448260798422, 0.5619788758288393, 0.45679933127303995, 0.4962972120244224, 0.48873949984654247, 0.4733063088840826, 0.4817870785947001, 0.5137272471682024, 0.5772113295386326, 0.42615365605380473, 0.389384311303316, 0.40915149811213497, 0.4120961494762764, 0.4962972120244224, 0.43609121289162617, 0.5647817481888637, 0.3494293938040213, 0.4443697499232712, 0.5239577516576788, 0.5539102157243452, 0.584163750790475, 0.48873949984654247, 0.42498774732166, 0.47535014192041986, 0.2765999317758201, 0.4637517525248825, 0.4911863911299449, 0.44293403299784656, 0.43609121289162617, 0.48873949984654247, 0.6602059991327962, 0.6795880017344075, 0.45848596478041265, 0.41938200260161124, 0.4724458311598688, 0.5075204004202089, 0.484043280676638, 0.5489454989793385, 0.4655804284128564, 0.43349821745875267, 0.40915149811213497, 0.4817870785947001, 0.584163750790475, 0.4347850394598346, 0.5442492798094343, 0.44293403299784656, 0.4911863911299449, 0.49370421659154895, 0.3726558865687187, 0.2817870785947001, 0.4911863911299449, 0.32146060934806686, 0.5075204004202089, 0.4911863911299449, 0.5075204004202089, 0.5772113295386326, 0.5315154638355587, 0.3707743928643524, 0.46196078399429724, 0.486359655186601, 0.5489454989793385, 0.46744843366368516, 0.5772113295386326, 0.44582959767157104, 0.4637517525248825, 0.5917214629683549, 0.5075204004202089, 0.4774432286560527, 0.5917214629683549, 0.49897000433601874, 0.3808548985535104, 0.3991357252434714, 0.41514414278762357, 0.5917214629683549, 0.5075204004202089, 0.4347850394598346, 0.5137272471682024, 0.44582959767157104, 0.4817870785947001, 0.4215810794619038, 0.5204119982655924, 0.48002448227465244, 0.4035457533920862, 0.4120961494762764, 0.5137272471682024, 0.5105683937315562, 0.5539102157243452, 0.5665546248849068, 0.584163750790475, 0.5315154638355587, 0.3347328278142497, 0.40175478486150096, 0.3982799656476164, 0.46196078399429724, 0.3758852137588299, 0.24836907560652205, 0.4733063088840826, 0.42498774732166, 0.4655804284128564, 0.5017276612331454, 0.4443697499232712, 0.5170053304058364, 0.484043280676638, 0.5204119982655924, 0.7045757490560675, 0.5355561410532159, 0.38861902973270546, 0.4817870785947001, 0.4911863911299449, 0.3974325550589656, 0.49897000433601874, 0.43741732867142885, 0.4111034655699662, 0.43609121289162617, 0.49897000433601874, 0.34516843014726406, 0.584163750790475, 0.5075204004202089, 0.42733542797590884, 0.4035457533920862, 0.5017276612331454, 0.49897000433601874, 0.5137272471682024, 0.486359655186601, 0.584163750790475, 0.6309803919971486, 0.5276544327964814, 0.44882502886550135, 0.5489454989793385, 0.43223018185254886, 0.43349821745875267, 0.36712942884311256, 0.37015617746892404, 0.42117609026178326, 0.44882502886550135, 0.49897000433601874, 0.5105683937315562, 0.4215810794619038, 0.5772113295386326, 0.4774432286560527, 0.4309803919971486, 0.44882502886550135, 0.43223018185254886, 0.44882502886550135, 0.4817870785947001, 0.2554732154932376]\n"
     ]
    }
   ],
   "source": [
    "import torch\n",
    "mf_feature = torch.load('/home/hojaechoi/work/qsar-pytorch/Data/preprocessed/GRM5_A_2-baseline/mf_feature_dti.h5')\n",
    "mf_feature2= torch.load('/home/hojaechoi/work/qsar-pytorch/Data/preprocessed/GRM5_A_2-baseline/mf_feature_base.h5')\n",
    "# mf_feature2 = torch.load('/home/hojaechoi/work/qsar-pytorch/Data/preprocessed/tox21-tshr-agonist-p1-baseline/mf_feature_dti.h5')\n",
    "print(mf_feature.keys())\n",
    "print(mf_feature['AC50'])\n",
    "print(mf_feature['pAC50'])\n"
   ]
  },
  {
   "cell_type": "code",
   "execution_count": 25,
   "id": "1bf4c6eb",
   "metadata": {},
   "outputs": [
    {
     "data": {
      "text/plain": [
       "<Axes: ylabel='Count'>"
      ]
     },
     "execution_count": 25,
     "metadata": {},
     "output_type": "execute_result"
    },
    {
     "data": {
      "image/png": "[encoded data removed]",
      "text/plain": [
       "<Figure size 640x480 with 1 Axes>"
      ]
     },
     "metadata": {},
     "output_type": "display_data"
    }
   ],
   "source": [
    "import seaborn as sns\n",
    "sns.histplot(x = mf_feature['AC50'])\n",
    "sns.histplot(x = mf_feature2['AC50'])"
   ]
  },
  {
   "cell_type": "code",
   "execution_count": 27,
   "id": "6b1e8b95",
   "metadata": {},
   "outputs": [
    {
     "data": {
      "text/plain": [
       "<Axes: ylabel='Count'>"
      ]
     },
     "execution_count": 27,
     "metadata": {},
     "output_type": "execute_result"
    },
    {
     "data": {
      "image/png": "[encoded data removed]",
      "text/plain": [
       "<Figure size 640x480 with 1 Axes>"
      ]
     },
     "metadata": {},
     "output_type": "display_data"
    }
   ],
   "source": [
    "import seaborn as sns\n",
    "import numpy as np\n",
    "sns.histplot(x = np.array(mf_feature['pAC50'])*5+5)\n",
    "sns.histplot(x = np.array(mf_feature2['pAC50'])*5+5)"
   ]
  },
  {
   "cell_type": "code",
   "execution_count": 28,
   "id": "52f2f623",
   "metadata": {},
   "outputs": [
    {
     "data": {
      "text/plain": [
       "<Axes: ylabel='Count'>"
      ]
     },
     "execution_count": 28,
     "metadata": {},
     "output_type": "execute_result"
    },
    {
     "data": {
      "image/png": "[encoded data removed]",
      "text/plain": [
       "<Figure size 640x480 with 1 Axes>"
      ]
     },
     "metadata": {},
     "output_type": "display_data"
    }
   ],
   "source": [
    "sns.histplot(x = np.array(mf_feature2['pAC50'])*5+5)"
   ]
  },
  {
   "cell_type": "code",
   "execution_count": 15,
   "id": "f6db2367",
   "metadata": {},
   "outputs": [
    {
     "data": {
      "text/html": [
       "<div>\n",
       "<style scoped>\n",
       "    .dataframe tbody tr th:only-of-type {\n",
       "        vertical-align: middle;\n",
       "    }\n",
       "\n",
       "    .dataframe tbody tr th {\n",
       "        vertical-align: top;\n",
       "    }\n",
       "\n",
       "    .dataframe thead th {\n",
       "        text-align: right;\n",
       "    }\n",
       "</style>\n",
       "<table border=\"1\" class=\"dataframe\">\n",
       "  <thead>\n",
       "    <tr style=\"text-align: right;\">\n",
       "      <th></th>\n",
       "      <th>idx</th>\n",
       "      <th>smiles</th>\n",
       "      <th>fasta</th>\n",
       "      <th>B</th>\n",
       "      <th>I</th>\n",
       "      <th>A</th>\n",
       "      <th>B_5</th>\n",
       "      <th>I_5</th>\n",
       "      <th>A_5</th>\n",
       "      <th>B_6</th>\n",
       "      <th>...</th>\n",
       "      <th>A_6</th>\n",
       "      <th>smiles_string</th>\n",
       "      <th>fasta_sequence</th>\n",
       "      <th>compound_id</th>\n",
       "      <th>mol_weight</th>\n",
       "      <th>protein_name</th>\n",
       "      <th>gene_name</th>\n",
       "      <th>protein_id</th>\n",
       "      <th>category</th>\n",
       "      <th>pAC50</th>\n",
       "    </tr>\n",
       "  </thead>\n",
       "  <tbody>\n",
       "    <tr>\n",
       "      <th>0</th>\n",
       "      <td>45650</td>\n",
       "      <td>722858</td>\n",
       "      <td>159</td>\n",
       "      <td>NaN</td>\n",
       "      <td>NaN</td>\n",
       "      <td>7.443697</td>\n",
       "      <td>NaN</td>\n",
       "      <td>NaN</td>\n",
       "      <td>1.0</td>\n",
       "      <td>NaN</td>\n",
       "      <td>...</td>\n",
       "      <td>1.0</td>\n",
       "      <td>CC1(C)CN(c2ccc(C#Cc3ccccc3)cn2)C1=O</td>\n",
       "      <td>MVLLLILSVLLLKEDVRGSAQSSERRVVAHMPGDIIIGALFSVHHQ...</td>\n",
       "      <td>222807</td>\n",
       "      <td>276.339</td>\n",
       "      <td>METABOTROPIC GLUTAMATE RECEPTOR 5</td>\n",
       "      <td>GRM5</td>\n",
       "      <td>P41594</td>\n",
       "      <td>G-protein coupled receptor</td>\n",
       "      <td>0.488739</td>\n",
       "    </tr>\n",
       "    <tr>\n",
       "      <th>1</th>\n",
       "      <td>45585</td>\n",
       "      <td>722813</td>\n",
       "      <td>159</td>\n",
       "      <td>NaN</td>\n",
       "      <td>NaN</td>\n",
       "      <td>7.585027</td>\n",
       "      <td>NaN</td>\n",
       "      <td>NaN</td>\n",
       "      <td>1.0</td>\n",
       "      <td>NaN</td>\n",
       "      <td>...</td>\n",
       "      <td>1.0</td>\n",
       "      <td>O=C1[C@H]2CCC[C@H]2N1c1ccc(C#Cc2ccccc2)cn1</td>\n",
       "      <td>MVLLLILSVLLLKEDVRGSAQSSERRVVAHMPGDIIIGALFSVHHQ...</td>\n",
       "      <td>222758</td>\n",
       "      <td>288.350</td>\n",
       "      <td>METABOTROPIC GLUTAMATE RECEPTOR 5</td>\n",
       "      <td>GRM5</td>\n",
       "      <td>P41594</td>\n",
       "      <td>G-protein coupled receptor</td>\n",
       "      <td>0.517005</td>\n",
       "    </tr>\n",
       "    <tr>\n",
       "      <th>2</th>\n",
       "      <td>45536</td>\n",
       "      <td>722859</td>\n",
       "      <td>159</td>\n",
       "      <td>NaN</td>\n",
       "      <td>NaN</td>\n",
       "      <td>7.408935</td>\n",
       "      <td>NaN</td>\n",
       "      <td>NaN</td>\n",
       "      <td>1.0</td>\n",
       "      <td>NaN</td>\n",
       "      <td>...</td>\n",
       "      <td>1.0</td>\n",
       "      <td>O=C1[C@H]2CCC[C@H]2N1c1ccc(C#Cc2cccnc2)cn1</td>\n",
       "      <td>MVLLLILSVLLLKEDVRGSAQSSERRVVAHMPGDIIIGALFSVHHQ...</td>\n",
       "      <td>222808</td>\n",
       "      <td>289.338</td>\n",
       "      <td>METABOTROPIC GLUTAMATE RECEPTOR 5</td>\n",
       "      <td>GRM5</td>\n",
       "      <td>P41594</td>\n",
       "      <td>G-protein coupled receptor</td>\n",
       "      <td>0.481787</td>\n",
       "    </tr>\n",
       "    <tr>\n",
       "      <th>3</th>\n",
       "      <td>45689</td>\n",
       "      <td>722778</td>\n",
       "      <td>159</td>\n",
       "      <td>NaN</td>\n",
       "      <td>NaN</td>\n",
       "      <td>7.823909</td>\n",
       "      <td>NaN</td>\n",
       "      <td>NaN</td>\n",
       "      <td>1.0</td>\n",
       "      <td>NaN</td>\n",
       "      <td>...</td>\n",
       "      <td>1.0</td>\n",
       "      <td>O=C1OC2(CC2)CN1c1ccc(C#Cc2ccccc2)cn1</td>\n",
       "      <td>MVLLLILSVLLLKEDVRGSAQSSERRVVAHMPGDIIIGALFSVHHQ...</td>\n",
       "      <td>222722</td>\n",
       "      <td>290.322</td>\n",
       "      <td>METABOTROPIC GLUTAMATE RECEPTOR 5</td>\n",
       "      <td>GRM5</td>\n",
       "      <td>P41594</td>\n",
       "      <td>G-protein coupled receptor</td>\n",
       "      <td>0.564782</td>\n",
       "    </tr>\n",
       "    <tr>\n",
       "      <th>4</th>\n",
       "      <td>45568</td>\n",
       "      <td>722782</td>\n",
       "      <td>159</td>\n",
       "      <td>NaN</td>\n",
       "      <td>NaN</td>\n",
       "      <td>7.431798</td>\n",
       "      <td>NaN</td>\n",
       "      <td>NaN</td>\n",
       "      <td>1.0</td>\n",
       "      <td>NaN</td>\n",
       "      <td>...</td>\n",
       "      <td>1.0</td>\n",
       "      <td>CC1(C)CC(=O)N(c2ccc(C#Cc3ccccc3)cn2)C1</td>\n",
       "      <td>MVLLLILSVLLLKEDVRGSAQSSERRVVAHMPGDIIIGALFSVHHQ...</td>\n",
       "      <td>222726</td>\n",
       "      <td>290.366</td>\n",
       "      <td>METABOTROPIC GLUTAMATE RECEPTOR 5</td>\n",
       "      <td>GRM5</td>\n",
       "      <td>P41594</td>\n",
       "      <td>G-protein coupled receptor</td>\n",
       "      <td>0.486360</td>\n",
       "    </tr>\n",
       "    <tr>\n",
       "      <th>...</th>\n",
       "      <td>...</td>\n",
       "      <td>...</td>\n",
       "      <td>...</td>\n",
       "      <td>...</td>\n",
       "      <td>...</td>\n",
       "      <td>...</td>\n",
       "      <td>...</td>\n",
       "      <td>...</td>\n",
       "      <td>...</td>\n",
       "      <td>...</td>\n",
       "      <td>...</td>\n",
       "      <td>...</td>\n",
       "      <td>...</td>\n",
       "      <td>...</td>\n",
       "      <td>...</td>\n",
       "      <td>...</td>\n",
       "      <td>...</td>\n",
       "      <td>...</td>\n",
       "      <td>...</td>\n",
       "      <td>...</td>\n",
       "      <td>...</td>\n",
       "    </tr>\n",
       "    <tr>\n",
       "      <th>213</th>\n",
       "      <td>45643</td>\n",
       "      <td>722896</td>\n",
       "      <td>159</td>\n",
       "      <td>NaN</td>\n",
       "      <td>NaN</td>\n",
       "      <td>7.244125</td>\n",
       "      <td>NaN</td>\n",
       "      <td>NaN</td>\n",
       "      <td>1.0</td>\n",
       "      <td>NaN</td>\n",
       "      <td>...</td>\n",
       "      <td>1.0</td>\n",
       "      <td>CN1C(=O)N(c2ncc(C#Cc3cc(F)ccc3F)cn2)CCC1(C)C</td>\n",
       "      <td>MVLLLILSVLLLKEDVRGSAQSSERRVVAHMPGDIIIGALFSVHHQ...</td>\n",
       "      <td>222853</td>\n",
       "      <td>356.376</td>\n",
       "      <td>METABOTROPIC GLUTAMATE RECEPTOR 5</td>\n",
       "      <td>GRM5</td>\n",
       "      <td>P41594</td>\n",
       "      <td>G-protein coupled receptor</td>\n",
       "      <td>0.448825</td>\n",
       "    </tr>\n",
       "    <tr>\n",
       "      <th>214</th>\n",
       "      <td>45577</td>\n",
       "      <td>722903</td>\n",
       "      <td>159</td>\n",
       "      <td>NaN</td>\n",
       "      <td>NaN</td>\n",
       "      <td>7.161151</td>\n",
       "      <td>NaN</td>\n",
       "      <td>NaN</td>\n",
       "      <td>1.0</td>\n",
       "      <td>NaN</td>\n",
       "      <td>...</td>\n",
       "      <td>1.0</td>\n",
       "      <td>CC1CN(c2ncc(C#Cc3cc(F)ccc3F)cn2)C(=O)OC1(C)C</td>\n",
       "      <td>MVLLLILSVLLLKEDVRGSAQSSERRVVAHMPGDIIIGALFSVHHQ...</td>\n",
       "      <td>222860</td>\n",
       "      <td>357.360</td>\n",
       "      <td>METABOTROPIC GLUTAMATE RECEPTOR 5</td>\n",
       "      <td>GRM5</td>\n",
       "      <td>P41594</td>\n",
       "      <td>G-protein coupled receptor</td>\n",
       "      <td>0.432230</td>\n",
       "    </tr>\n",
       "    <tr>\n",
       "      <th>215</th>\n",
       "      <td>45701</td>\n",
       "      <td>722891</td>\n",
       "      <td>159</td>\n",
       "      <td>NaN</td>\n",
       "      <td>NaN</td>\n",
       "      <td>7.244125</td>\n",
       "      <td>NaN</td>\n",
       "      <td>NaN</td>\n",
       "      <td>1.0</td>\n",
       "      <td>NaN</td>\n",
       "      <td>...</td>\n",
       "      <td>1.0</td>\n",
       "      <td>CO[C@H]1C(=O)N(c2ncc(C#Cc3cc(F)ccc3F)cn2)CC1(C)C</td>\n",
       "      <td>MVLLLILSVLLLKEDVRGSAQSSERRVVAHMPGDIIIGALFSVHHQ...</td>\n",
       "      <td>222846</td>\n",
       "      <td>357.360</td>\n",
       "      <td>METABOTROPIC GLUTAMATE RECEPTOR 5</td>\n",
       "      <td>GRM5</td>\n",
       "      <td>P41594</td>\n",
       "      <td>G-protein coupled receptor</td>\n",
       "      <td>0.448825</td>\n",
       "    </tr>\n",
       "    <tr>\n",
       "      <th>216</th>\n",
       "      <td>45645</td>\n",
       "      <td>722861</td>\n",
       "      <td>159</td>\n",
       "      <td>NaN</td>\n",
       "      <td>NaN</td>\n",
       "      <td>7.408935</td>\n",
       "      <td>NaN</td>\n",
       "      <td>NaN</td>\n",
       "      <td>1.0</td>\n",
       "      <td>NaN</td>\n",
       "      <td>...</td>\n",
       "      <td>1.0</td>\n",
       "      <td>CC(C)N1C(=O)N(c2ccc(C#Cc3ccccc3)cn2)C2CCCCC21</td>\n",
       "      <td>MVLLLILSVLLLKEDVRGSAQSSERRVVAHMPGDIIIGALFSVHHQ...</td>\n",
       "      <td>222811</td>\n",
       "      <td>359.473</td>\n",
       "      <td>METABOTROPIC GLUTAMATE RECEPTOR 5</td>\n",
       "      <td>GRM5</td>\n",
       "      <td>P41594</td>\n",
       "      <td>G-protein coupled receptor</td>\n",
       "      <td>0.481787</td>\n",
       "    </tr>\n",
       "    <tr>\n",
       "      <th>217</th>\n",
       "      <td>45608</td>\n",
       "      <td>714857</td>\n",
       "      <td>159</td>\n",
       "      <td>NaN</td>\n",
       "      <td>NaN</td>\n",
       "      <td>6.277366</td>\n",
       "      <td>NaN</td>\n",
       "      <td>NaN</td>\n",
       "      <td>1.0</td>\n",
       "      <td>NaN</td>\n",
       "      <td>...</td>\n",
       "      <td>1.0</td>\n",
       "      <td>CN1C(=O)C(C(=O)OCc2ccccc2)(c2ncc(C#Cc3ccccc3)c...</td>\n",
       "      <td>MVLLLILSVLLLKEDVRGSAQSSERRVVAHMPGDIIIGALFSVHHQ...</td>\n",
       "      <td>196680</td>\n",
       "      <td>439.515</td>\n",
       "      <td>METABOTROPIC GLUTAMATE RECEPTOR 5</td>\n",
       "      <td>GRM5</td>\n",
       "      <td>P41594</td>\n",
       "      <td>G-protein coupled receptor</td>\n",
       "      <td>0.255473</td>\n",
       "    </tr>\n",
       "  </tbody>\n",
       "</table>\n",
       "<p>218 rows × 21 columns</p>\n",
       "</div>"
      ],
      "text/plain": [
       "       idx  smiles  fasta   B   I         A  B_5  I_5  A_5  B_6  ...  A_6  \\\n",
       "0    45650  722858    159 NaN NaN  7.443697  NaN  NaN  1.0  NaN  ...  1.0   \n",
       "1    45585  722813    159 NaN NaN  7.585027  NaN  NaN  1.0  NaN  ...  1.0   \n",
       "2    45536  722859    159 NaN NaN  7.408935  NaN  NaN  1.0  NaN  ...  1.0   \n",
       "3    45689  722778    159 NaN NaN  7.823909  NaN  NaN  1.0  NaN  ...  1.0   \n",
       "4    45568  722782    159 NaN NaN  7.431798  NaN  NaN  1.0  NaN  ...  1.0   \n",
       "..     ...     ...    ...  ..  ..       ...  ...  ...  ...  ...  ...  ...   \n",
       "213  45643  722896    159 NaN NaN  7.244125  NaN  NaN  1.0  NaN  ...  1.0   \n",
       "214  45577  722903    159 NaN NaN  7.161151  NaN  NaN  1.0  NaN  ...  1.0   \n",
       "215  45701  722891    159 NaN NaN  7.244125  NaN  NaN  1.0  NaN  ...  1.0   \n",
       "216  45645  722861    159 NaN NaN  7.408935  NaN  NaN  1.0  NaN  ...  1.0   \n",
       "217  45608  714857    159 NaN NaN  6.277366  NaN  NaN  1.0  NaN  ...  1.0   \n",
       "\n",
       "                                         smiles_string  \\\n",
       "0                  CC1(C)CN(c2ccc(C#Cc3ccccc3)cn2)C1=O   \n",
       "1           O=C1[C@H]2CCC[C@H]2N1c1ccc(C#Cc2ccccc2)cn1   \n",
       "2           O=C1[C@H]2CCC[C@H]2N1c1ccc(C#Cc2cccnc2)cn1   \n",
       "3                 O=C1OC2(CC2)CN1c1ccc(C#Cc2ccccc2)cn1   \n",
       "4               CC1(C)CC(=O)N(c2ccc(C#Cc3ccccc3)cn2)C1   \n",
       "..                                                 ...   \n",
       "213       CN1C(=O)N(c2ncc(C#Cc3cc(F)ccc3F)cn2)CCC1(C)C   \n",
       "214       CC1CN(c2ncc(C#Cc3cc(F)ccc3F)cn2)C(=O)OC1(C)C   \n",
       "215   CO[C@H]1C(=O)N(c2ncc(C#Cc3cc(F)ccc3F)cn2)CC1(C)C   \n",
       "216      CC(C)N1C(=O)N(c2ccc(C#Cc3ccccc3)cn2)C2CCCCC21   \n",
       "217  CN1C(=O)C(C(=O)OCc2ccccc2)(c2ncc(C#Cc3ccccc3)c...   \n",
       "\n",
       "                                        fasta_sequence compound_id  \\\n",
       "0    MVLLLILSVLLLKEDVRGSAQSSERRVVAHMPGDIIIGALFSVHHQ...      222807   \n",
       "1    MVLLLILSVLLLKEDVRGSAQSSERRVVAHMPGDIIIGALFSVHHQ...      222758   \n",
       "2    MVLLLILSVLLLKEDVRGSAQSSERRVVAHMPGDIIIGALFSVHHQ...      222808   \n",
       "3    MVLLLILSVLLLKEDVRGSAQSSERRVVAHMPGDIIIGALFSVHHQ...      222722   \n",
       "4    MVLLLILSVLLLKEDVRGSAQSSERRVVAHMPGDIIIGALFSVHHQ...      222726   \n",
       "..                                                 ...         ...   \n",
       "213  MVLLLILSVLLLKEDVRGSAQSSERRVVAHMPGDIIIGALFSVHHQ...      222853   \n",
       "214  MVLLLILSVLLLKEDVRGSAQSSERRVVAHMPGDIIIGALFSVHHQ...      222860   \n",
       "215  MVLLLILSVLLLKEDVRGSAQSSERRVVAHMPGDIIIGALFSVHHQ...      222846   \n",
       "216  MVLLLILSVLLLKEDVRGSAQSSERRVVAHMPGDIIIGALFSVHHQ...      222811   \n",
       "217  MVLLLILSVLLLKEDVRGSAQSSERRVVAHMPGDIIIGALFSVHHQ...      196680   \n",
       "\n",
       "     mol_weight                       protein_name gene_name protein_id  \\\n",
       "0       276.339  METABOTROPIC GLUTAMATE RECEPTOR 5      GRM5     P41594   \n",
       "1       288.350  METABOTROPIC GLUTAMATE RECEPTOR 5      GRM5     P41594   \n",
       "2       289.338  METABOTROPIC GLUTAMATE RECEPTOR 5      GRM5     P41594   \n",
       "3       290.322  METABOTROPIC GLUTAMATE RECEPTOR 5      GRM5     P41594   \n",
       "4       290.366  METABOTROPIC GLUTAMATE RECEPTOR 5      GRM5     P41594   \n",
       "..          ...                                ...       ...        ...   \n",
       "213     356.376  METABOTROPIC GLUTAMATE RECEPTOR 5      GRM5     P41594   \n",
       "214     357.360  METABOTROPIC GLUTAMATE RECEPTOR 5      GRM5     P41594   \n",
       "215     357.360  METABOTROPIC GLUTAMATE RECEPTOR 5      GRM5     P41594   \n",
       "216     359.473  METABOTROPIC GLUTAMATE RECEPTOR 5      GRM5     P41594   \n",
       "217     439.515  METABOTROPIC GLUTAMATE RECEPTOR 5      GRM5     P41594   \n",
       "\n",
       "                       category     pAC50  \n",
       "0    G-protein coupled receptor  0.488739  \n",
       "1    G-protein coupled receptor  0.517005  \n",
       "2    G-protein coupled receptor  0.481787  \n",
       "3    G-protein coupled receptor  0.564782  \n",
       "4    G-protein coupled receptor  0.486360  \n",
       "..                          ...       ...  \n",
       "213  G-protein coupled receptor  0.448825  \n",
       "214  G-protein coupled receptor  0.432230  \n",
       "215  G-protein coupled receptor  0.448825  \n",
       "216  G-protein coupled receptor  0.481787  \n",
       "217  G-protein coupled receptor  0.255473  \n",
       "\n",
       "[218 rows x 21 columns]"
      ]
     },
     "execution_count": 15,
     "metadata": {},
     "output_type": "execute_result"
    }
   ],
   "source": [
    "preprocessor.df"
   ]
  },
  {
   "cell_type": "code",
   "execution_count": 47,
   "id": "2cf447f2",
   "metadata": {},
   "outputs": [],
   "source": [
    "dti_feat = torch.load('/home/hojaechoi/work/qsar-pytorch/Data_common/preprocessed/GRM5_A_2-baseline/mf_feature_dti.h5')['MF_FEATURE']\n",
    "mf_feat = torch.load('/home/hojaechoi/work/qsar-pytorch/Data_common/preprocessed/GRM5_A_2-baseline/mf_feature_plusmhfp.h5')['MF_FEATURE']"
   ]
  },
  {
   "cell_type": "code",
   "execution_count": 48,
   "id": "f17db8fe",
   "metadata": {},
   "outputs": [
    {
     "name": "stdout",
     "output_type": "stream",
     "text": [
      "(218, 128)\n",
      "(218, 18933)\n"
     ]
    }
   ],
   "source": [
    "print(dti_feat.shape)\n",
    "print(mf_feat.shape)"
   ]
  }
 ],
 "metadata": {
  "kernelspec": {
   "display_name": "Python 3 (ipykernel)",
   "language": "python",
   "name": "python3"
  },
  "language_info": {
   "codemirror_mode": {
    "name": "ipython",
    "version": 3
   },
   "file_extension": ".py",
   "mimetype": "text/x-python",
   "name": "python",
   "nbconvert_exporter": "python",
   "pygments_lexer": "ipython3",
   "version": "3.7.16"
  }
 },
 "nbformat": 4,
 "nbformat_minor": 5
}
